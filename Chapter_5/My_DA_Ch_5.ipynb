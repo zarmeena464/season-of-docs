{
  "nbformat": 4,
  "nbformat_minor": 0,
  "metadata": {
    "colab": {
      "name": "My_DA_Ch_5.ipynb",
      "provenance": [],
      "collapsed_sections": [
        "nmBYk_IySkOC",
        "7lwbHha1SPOW",
        "jCUBBFgFs2dp"
      ],
      "include_colab_link": true
    },
    "kernelspec": {
      "name": "python3",
      "display_name": "Python 3"
    }
  },
  "cells": [
    {
      "cell_type": "markdown",
      "metadata": {
        "id": "view-in-github",
        "colab_type": "text"
      },
      "source": [
        "<a href=\"https://colab.research.google.com/github/zarmeena464/season-of-docs/blob/main/Chapter_5/My_DA_Ch_5.ipynb\" target=\"_parent\"><img src=\"https://colab.research.google.com/assets/colab-badge.svg\" alt=\"Open In Colab\"/></a>"
      ]
    },
    {
      "cell_type": "code",
      "metadata": {
        "colab": {
          "base_uri": "https://localhost:8080/"
        },
        "id": "xIAWvhcSnex8",
        "outputId": "e6fe3471-4531-4859-d5c4-11f1728f7271"
      },
      "source": [
        "from google.colab import drive\n",
        "drive.mount('/content/gdrive/')"
      ],
      "execution_count": null,
      "outputs": [
        {
          "output_type": "stream",
          "text": [
            "Mounted at /content/gdrive/\n"
          ],
          "name": "stdout"
        }
      ]
    },
    {
      "cell_type": "code",
      "metadata": {
        "colab": {
          "base_uri": "https://localhost:8080/"
        },
        "id": "Oukbd6k_8ze8",
        "outputId": "6fc84df3-5164-4e40-b4c1-46486bea9321"
      },
      "source": [
        "%cd /content/gdrive/MyDrive/Colab Notebooks/MOOCs/Data Analysis with Python/Chapter_5/"
      ],
      "execution_count": null,
      "outputs": [
        {
          "output_type": "stream",
          "text": [
            "/content/gdrive/MyDrive/Colab Notebooks/MOOCs/Data Analysis with Python/Chapter_5\n"
          ],
          "name": "stdout"
        }
      ]
    },
    {
      "cell_type": "markdown",
      "metadata": {
        "id": "nmBYk_IySkOC"
      },
      "source": [
        "# **Chapter 5**\n"
      ]
    },
    {
      "cell_type": "markdown",
      "metadata": {
        "id": "ZH5GmMedtF-0"
      },
      "source": [
        "## Topic 5.1\n",
        "You'll convert data types, apply range constraints to remove future data points and remove duplicated data points to avoid double-counting."
      ]
    },
    {
      "cell_type": "code",
      "metadata": {
        "id": "_9L1evNK8LRC"
      },
      "source": [
        "import pandas as pd\n",
        "import matplotlib.pyplot as plt\n",
        "import numpy as np\n",
        "\n",
        "ride_sharing = pd.read_csv('ride_sharing_new.csv')\n",
        "\n",
        "# Print the information of ride_sharing\n",
        "print('Information about ride sharing data frame:\\n')\n",
        "print(ride_sharing.info())\n",
        "\n",
        "print('------------------------------------------------------------------------------')\n",
        "\n",
        "# Print summary statistics of user_type column\n",
        "print('Statistical Information about user type column in ride sharing data frame:\\n',ride_sharing['user_type'].describe())"
      ],
      "execution_count": null,
      "outputs": []
    },
    {
      "cell_type": "code",
      "metadata": {
        "id": "wWW_Lwwy_joX"
      },
      "source": [
        "# Strip duration of minutes\n",
        "ride_sharing['minutes_trim'] = ride_sharing['duration'].str.strip('minutes')\n",
        "\n",
        "# Convert minutes_trim to integer and assign to a new variable\n",
        "ride_sharing['duration_time'] = ride_sharing['minutes_trim'].astype('int')\n",
        "\n",
        "# Write an assert statement making sure of conversion\n",
        "assert ride_sharing['duration_time'].dtype == 'int'\n",
        "\n",
        "# Print formed columns and calculate average ride duration\n",
        "print('Information of columns:\\n',ride_sharing[['duration', 'minutes_trim', 'duration_time']])\n",
        "\n",
        "print('------------------------------------------------------------------------------')\n",
        "\n",
        "print('Mean of \"duration_time\" column:\\n',ride_sharing.duration_time.mean())"
      ],
      "execution_count": null,
      "outputs": []
    },
    {
      "cell_type": "code",
      "metadata": {
        "id": "fdfN5KoOGG4X"
      },
      "source": [
        "# Columns of ride sharing\n",
        "ride_sharing.columns"
      ],
      "execution_count": null,
      "outputs": []
    },
    {
      "cell_type": "code",
      "metadata": {
        "id": "VE2fHw5EGU_5"
      },
      "source": [
        "# Information of ride sharing\n",
        "ride_sharing.info()"
      ],
      "execution_count": null,
      "outputs": []
    },
    {
      "cell_type": "code",
      "metadata": {
        "id": "X3l2yO33Ghwy"
      },
      "source": [
        "# Statistical summary of ride sharing\n",
        "ride_sharing.describe()"
      ],
      "execution_count": null,
      "outputs": []
    },
    {
      "cell_type": "code",
      "metadata": {
        "id": "zGPG_SQZG-_C"
      },
      "source": [
        "# Convert user_type to integer\n",
        "ride_sharing['user_type'] = ride_sharing['user_type'].astype('int')\n",
        "\n",
        "# Set all values in ride sharing column of 'user_type' greater than 27 to 27\n",
        "ride_sharing.loc[ride_sharing['user_type'] > 27, 'user_type'] = 27 \n",
        "\n",
        "# Reconvert user_type back to categorical\n",
        "'''\n",
        "The category data type in pandas is a hybrid data type. \n",
        "It looks and behaves like a string in many instances but internally is represented by an array of integers\n",
        "'''\n",
        "ride_sharing['user_type'] = ride_sharing['user_type'].astype('category')\n",
        "\n",
        "# Print user_type description\n",
        "print('Description about user type column in ride sharing data frame:\\n',ride_sharing['user_type'].describe())"
      ],
      "execution_count": null,
      "outputs": []
    },
    {
      "cell_type": "code",
      "metadata": {
        "id": "bG5LPnIKOgqR"
      },
      "source": [
        "ride_sharing.info()"
      ],
      "execution_count": null,
      "outputs": []
    },
    {
      "cell_type": "code",
      "metadata": {
        "id": "KJe3If02Oaqv"
      },
      "source": [
        "# Convert ride_sharing[user_birth_year] to datetime\n",
        "ride_sharing['user_birth_year'] = pd.to_datetime(ride_sharing['user_birth_year'])\n",
        "\n",
        "# Import date time\n",
        "import datetime as dt\n",
        "\n",
        "# Save today's date\n",
        "today = dt.datetime.today()\n",
        "\n",
        "# Set all in the future to today's date\n",
        "ride_sharing.loc[ride_sharing['user_birth_year'] > today , 'user_birth_year'] = today\n",
        "\n",
        "# Print maximum of user_birth_year column\n",
        "print('Maximum date:\\n',ride_sharing.user_birth_year.max())\n",
        "\n",
        "print('-' * 78)\n",
        "\n",
        "print('Today:\\n',today)"
      ],
      "execution_count": null,
      "outputs": []
    },
    {
      "cell_type": "code",
      "metadata": {
        "id": "RJ73rKHarAZR"
      },
      "source": [
        "# Find duplicates: duplicates\n",
        "duplicates = ride_sharing.duplicated(subset= 'bike_id', keep= False)\n",
        "\n",
        "# Sort your duplicated rides: duplicated_rides\n",
        "duplicated_rides = ride_sharing[duplicates].sort_values('bike_id')\n",
        "\n",
        "# Print relevant columns ['bike_id','duration','user_birth_year'] of duplicated_rides\n",
        "print('Relevant Columns:\\n', duplicated_rides[['bike_id','duration','user_birth_year']])"
      ],
      "execution_count": null,
      "outputs": []
    },
    {
      "cell_type": "code",
      "metadata": {
        "id": "YVh-syC8Pzhg"
      },
      "source": [
        "# Drop complete duplicates from ride_sharing: ride_dup_trim\n",
        "ride_dup_trim = ride_sharing.drop_duplicates()\n",
        "\n",
        "# Group by ride_id and compute new statistics: ride_unique\n",
        "ride_unique = ride_sharing.groupby('bike_id')\n",
        "\n",
        "# Assert duplicates are processed\n",
        "print('Data after Duplicate values removal:\\n',ride_dup_trim)"
      ],
      "execution_count": null,
      "outputs": []
    },
    {
      "cell_type": "markdown",
      "metadata": {
        "id": "7lwbHha1SPOW"
      },
      "source": [
        "# **Chapter 5**\n"
      ]
    },
    {
      "cell_type": "markdown",
      "metadata": {
        "id": "d9T-zMc0tRgS"
      },
      "source": [
        "## Topic 5.2\n",
        "You’ll learn how to fix whitespace and capitalization inconsistencies in category labels, collapse multiple categories into one, and reformat strings for consistency."
      ]
    },
    {
      "cell_type": "code",
      "metadata": {
        "id": "bvy0C79L9zYd"
      },
      "source": [
        "# Observation/record = row\n",
        "# Target variable = column\n",
        "\n",
        "# Import dependencies\n",
        "import matplotlib.pyplot as plt\n",
        "import pandas as pd\n",
        "import numpy as np\n",
        "\n",
        "# Read csv\n",
        "airlines = pd.read_csv('airlines_final.csv')"
      ],
      "execution_count": null,
      "outputs": []
    },
    {
      "cell_type": "code",
      "metadata": {
        "id": "lHrqFs-PU2Kx"
      },
      "source": [
        "# Print categories DataFrame\n",
        "print('Head of airlines data:\\n',airlines.head())"
      ],
      "execution_count": null,
      "outputs": []
    },
    {
      "cell_type": "code",
      "metadata": {
        "id": "NxhxtW55XIWD"
      },
      "source": [
        "# Show information about dataframe\n",
        "airlines.info() "
      ],
      "execution_count": null,
      "outputs": []
    },
    {
      "cell_type": "code",
      "metadata": {
        "id": "4bVWozEu6bpa"
      },
      "source": [
        "# Columns in airlines\n",
        "airlines.columns"
      ],
      "execution_count": null,
      "outputs": []
    },
    {
      "cell_type": "code",
      "metadata": {
        "id": "B1E8ZlWRys7z"
      },
      "source": [
        "# Airlines id\n",
        "airlines.id"
      ],
      "execution_count": null,
      "outputs": []
    },
    {
      "cell_type": "code",
      "metadata": {
        "id": "yPvaGHJf0h0Q"
      },
      "source": [
        "# Satisfaction column of airlines\n",
        "airlines.satisfaction"
      ],
      "execution_count": null,
      "outputs": []
    },
    {
      "cell_type": "code",
      "metadata": {
        "id": "SkzBJQcHJkZX"
      },
      "source": [
        "# Print unique values of Cleanliness in airlines\n",
        "print('Unique values in \"Cleanliness\":\\n', airlines['cleanliness'].unique(),'\\n')\n",
        "print('-'* 80)\n",
        "\n",
        "# Print unique values of Safety in airlines\n",
        "print('Unique values in \"Safety\": \\n', airlines['safety'].unique(), '\\n')\n",
        "print('-'* 80)\n",
        "\n",
        "# Print unique values of Satisfaction in airlines\n",
        "print('Unique values in \"Satisfaction\": \\n', airlines['satisfaction'].unique(), '\\n')"
      ],
      "execution_count": null,
      "outputs": []
    },
    {
      "cell_type": "code",
      "metadata": {
        "id": "3efYYszjqPOq"
      },
      "source": [
        "# Print unique values of dest_region column\n",
        "print('Unique values of dest_region column:\\n', airlines['dest_region'].unique(), '\\n')\n",
        "\n",
        "print('-'* 80, '\\n')\n",
        "\n",
        "# Print unique values of dest_size column\n",
        "print('Unique values of dest_size column:\\n', airlines['dest_size'].unique())"
      ],
      "execution_count": null,
      "outputs": []
    },
    {
      "cell_type": "code",
      "metadata": {
        "id": "2seEutorr9vC"
      },
      "source": [
        "# Create ranges for categories\n",
        "label_ranges = [0,60, 180, np.inf]\n",
        "label_names = ['short', 'medium', 'long']   # Short for 0-60 range , Medium for 61-180 range, long for 181-infinity range  \n",
        "\n",
        "# Create wait_type column\n",
        "airlines['wait_type'] = pd.cut(airlines['wait_min'], bins= label_ranges , labels= label_names,)  # Cut function can convert ranges into category\n",
        "\n",
        "# Create mappings and replace\n",
        "mappings = {'Monday':'weekday', 'Tuesday':'weekday', 'Wednesday':'weekday', 'Thursday':'weekday',\n",
        "            'Friday':'weekday', 'Saturday':'weekend', 'Sunday':'weekend'}\n",
        "\n",
        "airlines['day_week'] = airlines['day'].replace(mappings)"
      ],
      "execution_count": null,
      "outputs": []
    },
    {
      "cell_type": "code",
      "metadata": {
        "id": "RUUhucV3d4UG"
      },
      "source": [
        "# Replace \"w\" with \"W\"\n",
        "airlines['day_week'] = airlines['day_week'].str.replace('w', 'W')\n",
        "\n",
        "# Replace \"e\" with \"E\"\n",
        "airlines['day_week'] = airlines['day_week'].str.replace('e', 'E')\n",
        "\n",
        "# Replace \"k\" with \"K\"\n",
        "airlines['day_week'] = airlines['day_week'].str.replace('k', 'K')\n",
        "\n",
        "# Replace \"day\" with \"DAY\"\n",
        "airlines['day_week'] = airlines['day_week'].str.replace('day', 'DAY')\n",
        "\n",
        "# Assert that full_name has no honorifics\n",
        "assert airlines['day_week'].str.contains('w|e|k|day').any() == False  "
      ],
      "execution_count": null,
      "outputs": []
    },
    {
      "cell_type": "code",
      "metadata": {
        "id": "qysIx6ayjklv"
      },
      "source": [
        "# Check either characters replaced or not?\n",
        "airlines.day_week"
      ],
      "execution_count": null,
      "outputs": []
    },
    {
      "cell_type": "code",
      "metadata": {
        "id": "mMqcH_Q2j0ac"
      },
      "source": [
        "# Store length of each row (characters) in survey_response column\n",
        "surv_resp_length = airlines['day_week'].str.len()  \n",
        "\n",
        "# Find rows in airlines where surv_resp_length > 4\n",
        "airlines_survey = airlines[surv_resp_length > 4]\n",
        "\n",
        "# Assert minimum day_week length is > 5\n",
        "assert airlines_survey['day_week'].str.len().min() > 5\n",
        "\n",
        "# Print new survey_response column\n",
        "print(airlines_survey['day_week'].head(),':\\n','-'*80)"
      ],
      "execution_count": null,
      "outputs": []
    },
    {
      "cell_type": "markdown",
      "metadata": {
        "id": "jCUBBFgFs2dp"
      },
      "source": [
        "# **Chapter 5**\n"
      ]
    },
    {
      "cell_type": "markdown",
      "metadata": {
        "id": "uBltkR_gtVgx"
      },
      "source": [
        "## Topic 5.3\n",
        "You’ll dive into more advanced data cleaning problems,\n",
        "such as ensuring that weights are all written in kilograms instead of pounds."
      ]
    },
    {
      "cell_type": "code",
      "metadata": {
        "colab": {
          "base_uri": "https://localhost:8080/"
        },
        "id": "1yHKdEH37O4r",
        "outputId": "d6045ef6-7f98-4ff5-b99f-8fe8367ab06f"
      },
      "source": [
        "# Import packages\n",
        "import pandas as pd\n",
        "import matplotlib.pyplot as plt\n",
        "import numpy as np\n",
        "\n",
        "banking = pd.read_csv('banking_dirty.csv')\n",
        "\n",
        "# Columns of banking\n",
        "banking.columns"
      ],
      "execution_count": null,
      "outputs": [
        {
          "output_type": "execute_result",
          "data": {
            "text/plain": [
              "Index(['Unnamed: 0', 'cust_id', 'birth_date', 'Age', 'acct_amount',\n",
              "       'inv_amount', 'fund_A', 'fund_B', 'fund_C', 'fund_D', 'account_opened',\n",
              "       'last_transaction'],\n",
              "      dtype='object')"
            ]
          },
          "metadata": {
            "tags": []
          },
          "execution_count": 82
        }
      ]
    },
    {
      "cell_type": "code",
      "metadata": {
        "id": "WMcTS28oQb5j"
      },
      "source": [
        "# Find values of acct_amount that are equal to '38175.46'\n",
        "acct_eu = banking['acct_amount'] == 38175.46\n",
        "\n",
        "# Find values of inv_amount that are equal to '15050'\n",
        "acct_inv = banking['inv_amount'] == 15050\n",
        "\n",
        "# Convert acct_eu where it is in euro to dollars\n",
        "# The .loc[] method takes in two arguments, the first one being to select rows, and the second to select columns.\n",
        "banking.loc[acct_eu, 'acct_amount'] = banking.loc[acct_inv, 'inv_amount'] * 10\n",
        "\n",
        "# Unify acct_eu column by changing 'euro' values to 'dollar'\n",
        "banking.loc[acct_eu, 'inv_amount'] = 'dollars'\n",
        "\n",
        "# Assert unique values of acct_amount where it is equal to dollar\n",
        "# assert banking['acct_amount'].unique() == 'dollar'"
      ],
      "execution_count": null,
      "outputs": []
    },
    {
      "cell_type": "code",
      "metadata": {
        "colab": {
          "base_uri": "https://localhost:8080/",
          "height": 198
        },
        "id": "LM1JMLvmfQsA",
        "outputId": "ebe107fd-01ee-447b-efa6-c35dc56fe513"
      },
      "source": [
        "# Head of Banking \n",
        "display(banking.head())"
      ],
      "execution_count": null,
      "outputs": [
        {
          "output_type": "display_data",
          "data": {
            "text/html": [
              "<div>\n",
              "<style scoped>\n",
              "    .dataframe tbody tr th:only-of-type {\n",
              "        vertical-align: middle;\n",
              "    }\n",
              "\n",
              "    .dataframe tbody tr th {\n",
              "        vertical-align: top;\n",
              "    }\n",
              "\n",
              "    .dataframe thead th {\n",
              "        text-align: right;\n",
              "    }\n",
              "</style>\n",
              "<table border=\"1\" class=\"dataframe\">\n",
              "  <thead>\n",
              "    <tr style=\"text-align: right;\">\n",
              "      <th></th>\n",
              "      <th>Unnamed: 0</th>\n",
              "      <th>cust_id</th>\n",
              "      <th>birth_date</th>\n",
              "      <th>Age</th>\n",
              "      <th>acct_amount</th>\n",
              "      <th>inv_amount</th>\n",
              "      <th>fund_A</th>\n",
              "      <th>fund_B</th>\n",
              "      <th>fund_C</th>\n",
              "      <th>fund_D</th>\n",
              "      <th>account_opened</th>\n",
              "      <th>last_transaction</th>\n",
              "    </tr>\n",
              "  </thead>\n",
              "  <tbody>\n",
              "    <tr>\n",
              "      <th>0</th>\n",
              "      <td>0</td>\n",
              "      <td>870A9281</td>\n",
              "      <td>1962-06-09</td>\n",
              "      <td>58</td>\n",
              "      <td>63523.31</td>\n",
              "      <td>51295</td>\n",
              "      <td>30105.0</td>\n",
              "      <td>4138.0</td>\n",
              "      <td>1420.0</td>\n",
              "      <td>15632.0</td>\n",
              "      <td>02-09-18</td>\n",
              "      <td>22-02-19</td>\n",
              "    </tr>\n",
              "    <tr>\n",
              "      <th>1</th>\n",
              "      <td>1</td>\n",
              "      <td>166B05B0</td>\n",
              "      <td>1962-12-16</td>\n",
              "      <td>58</td>\n",
              "      <td>150500.00</td>\n",
              "      <td>dollars</td>\n",
              "      <td>4995.0</td>\n",
              "      <td>938.0</td>\n",
              "      <td>6696.0</td>\n",
              "      <td>2421.0</td>\n",
              "      <td>28-02-19</td>\n",
              "      <td>31-10-18</td>\n",
              "    </tr>\n",
              "    <tr>\n",
              "      <th>2</th>\n",
              "      <td>2</td>\n",
              "      <td>BFC13E88</td>\n",
              "      <td>1990-09-12</td>\n",
              "      <td>34</td>\n",
              "      <td>59863.77</td>\n",
              "      <td>24567</td>\n",
              "      <td>10323.0</td>\n",
              "      <td>4590.0</td>\n",
              "      <td>8469.0</td>\n",
              "      <td>1185.0</td>\n",
              "      <td>25-04-18</td>\n",
              "      <td>02-04-18</td>\n",
              "    </tr>\n",
              "    <tr>\n",
              "      <th>3</th>\n",
              "      <td>3</td>\n",
              "      <td>F2158F66</td>\n",
              "      <td>1985-11-03</td>\n",
              "      <td>35</td>\n",
              "      <td>84132.10</td>\n",
              "      <td>23712</td>\n",
              "      <td>3908.0</td>\n",
              "      <td>492.0</td>\n",
              "      <td>6482.0</td>\n",
              "      <td>12830.0</td>\n",
              "      <td>07-11-17</td>\n",
              "      <td>08-11-18</td>\n",
              "    </tr>\n",
              "    <tr>\n",
              "      <th>4</th>\n",
              "      <td>4</td>\n",
              "      <td>7A73F334</td>\n",
              "      <td>1990-05-17</td>\n",
              "      <td>30</td>\n",
              "      <td>120512.00</td>\n",
              "      <td>93230</td>\n",
              "      <td>12158.4</td>\n",
              "      <td>51281.0</td>\n",
              "      <td>13434.0</td>\n",
              "      <td>18383.0</td>\n",
              "      <td>14-05-18</td>\n",
              "      <td>19-07-18</td>\n",
              "    </tr>\n",
              "  </tbody>\n",
              "</table>\n",
              "</div>"
            ],
            "text/plain": [
              "   Unnamed: 0   cust_id  birth_date  ...   fund_D  account_opened last_transaction\n",
              "0           0  870A9281  1962-06-09  ...  15632.0        02-09-18         22-02-19\n",
              "1           1  166B05B0  1962-12-16  ...   2421.0        28-02-19         31-10-18\n",
              "2           2  BFC13E88  1990-09-12  ...   1185.0        25-04-18         02-04-18\n",
              "3           3  F2158F66  1985-11-03  ...  12830.0        07-11-17         08-11-18\n",
              "4           4  7A73F334  1990-05-17  ...  18383.0        14-05-18         19-07-18\n",
              "\n",
              "[5 rows x 12 columns]"
            ]
          },
          "metadata": {
            "tags": []
          }
        }
      ]
    },
    {
      "cell_type": "code",
      "metadata": {
        "colab": {
          "base_uri": "https://localhost:8080/"
        },
        "id": "MFTz465VfV5b",
        "outputId": "34b1fc1b-a68b-4c87-bf8b-771e332a9f4d"
      },
      "source": [
        "# Print the header of account_opened\n",
        "print(banking.account_opened.head())"
      ],
      "execution_count": null,
      "outputs": [
        {
          "output_type": "stream",
          "text": [
            "0    02-09-18\n",
            "1    28-02-19\n",
            "2    25-04-18\n",
            "3    07-11-17\n",
            "4    14-05-18\n",
            "Name: account_opened, dtype: object\n"
          ],
          "name": "stdout"
        }
      ]
    },
    {
      "cell_type": "code",
      "metadata": {
        "colab": {
          "base_uri": "https://localhost:8080/"
        },
        "id": "jz-80OMuf2eL",
        "outputId": "537c6ae9-3d56-4cae-a1ca-9ae6951a0cb6"
      },
      "source": [
        "# Store fund columns to sum against\n",
        "fund_columns = ['fund_A','fund_B','fund_C','fund_D']\n",
        "\n",
        "# Find rows where fund_columns row sum == inv_amount\n",
        "inv_equal = banking[fund_columns].sum(axis = 1) == banking['inv_amount']\n",
        "\n",
        "# Store consistent and inconsistent data\n",
        "consistent_inv = banking[inv_equal]\n",
        "inconsistent_inv = banking[~ inv_equal]\n",
        "\n",
        "# Display inconsistent data\n",
        "print(\"Number of inconsistent investments:\", inconsistent_inv.shape[0], '\\n', '-' * 80)\n",
        "\n",
        "# Display Consistent data\n",
        "print(\"Number of Consistent investments:\", consistent_inv.shape[0])"
      ],
      "execution_count": null,
      "outputs": [
        {
          "output_type": "stream",
          "text": [
            "Number of inconsistent investments: 9 \n",
            " --------------------------------------------------------------------------------\n",
            "Number of Consistent investments: 91\n"
          ],
          "name": "stdout"
        }
      ]
    },
    {
      "cell_type": "code",
      "metadata": {
        "colab": {
          "base_uri": "https://localhost:8080/",
          "height": 625
        },
        "id": "RHsrslPbozg3",
        "outputId": "cdfd364d-8d92-4b3f-8b01-65025cfc91e6"
      },
      "source": [
        "import missingno as msno\n",
        "\n",
        "# Print number of missing values in banking\n",
        "print('Sum of all missing values:\\n',banking.isna().sum())\n",
        "\n",
        "# Visualize distribution of missing values as a matrix\n",
        "msno.matrix(banking, figsize=(5,4))\n",
        "plt.show()"
      ],
      "execution_count": null,
      "outputs": [
        {
          "output_type": "stream",
          "text": [
            "Sum of all missing values:\n",
            " Unnamed: 0          0\n",
            "cust_id             0\n",
            "birth_date          0\n",
            "Age                 0\n",
            "acct_amount         0\n",
            "inv_amount          0\n",
            "fund_A              0\n",
            "fund_B              0\n",
            "fund_C              0\n",
            "fund_D              0\n",
            "account_opened      0\n",
            "last_transaction    0\n",
            "dtype: int64\n"
          ],
          "name": "stdout"
        },
        {
          "output_type": "display_data",
          "data": {
            "image/png": "[encoded data removed]",
            "text/plain": [
              "<Figure size 360x288 with 2 Axes>"
            ]
          },
          "metadata": {
            "tags": [],
            "needs_background": "light"
          }
        }
      ]
    },
    {
      "cell_type": "code",
      "metadata": {
        "id": "dIaN6IGL40u-",
        "colab": {
          "base_uri": "https://localhost:8080/"
        },
        "outputId": "a8e220c7-8cf2-4b2f-f0ec-3097edb9cd24"
      },
      "source": [
        "# Drop missing values of column \"cust_id\" in the dataframe\n",
        "banking_fullid = banking.dropna(subset=['cust_id'])\n",
        "\n",
        "# Compute estimated acct_amount\n",
        "acct_imp = banking_fullid['inv_amount'] * 5\n",
        "\n",
        "# Impute missing acct_amount with corresponding acct_imp\n",
        "banking_imputed = banking_fullid.fillna({'acct_amount':acct_imp})\n",
        "\n",
        "# Print number of missing values\n",
        "print('All missing values in each column:\\n',banking_imputed.isna().sum())"
      ],
      "execution_count": null,
      "outputs": [
        {
          "output_type": "stream",
          "text": [
            "All missing values in each column:\n",
            " Unnamed: 0          0\n",
            "cust_id             0\n",
            "birth_date          0\n",
            "Age                 0\n",
            "acct_amount         0\n",
            "inv_amount          0\n",
            "fund_A              0\n",
            "fund_B              0\n",
            "fund_C              0\n",
            "fund_D              0\n",
            "account_opened      0\n",
            "last_transaction    0\n",
            "dtype: int64\n"
          ],
          "name": "stdout"
        }
      ]
    },
    {
      "cell_type": "code",
      "metadata": {
        "id": "N3KyoE3Y5X8l"
      },
      "source": [
        ""
      ],
      "execution_count": null,
      "outputs": []
    }
  ]
}