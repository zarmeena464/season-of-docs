{
  "nbformat": 4,
  "nbformat_minor": 0,
  "metadata": {
    "colab": {
      "name": "My_DA_Ch_1.ipynb",
      "provenance": [],
      "collapsed_sections": [],
      "include_colab_link": true
    },
    "kernelspec": {
      "name": "python3",
      "display_name": "Python 3"
    }
  },
  "cells": [
    {
      "cell_type": "markdown",
      "metadata": {
        "id": "view-in-github",
        "colab_type": "text"
      },
      "source": [
        "<a href=\"https://colab.research.google.com/github/zarmeena464/season-of-docs/blob/main/Chapter_1/My_DA_Ch_1.ipynb\" target=\"_parent\"><img src=\"https://colab.research.google.com/assets/colab-badge.svg\" alt=\"Open In Colab\"/></a>"
      ]
    },
    {
      "cell_type": "code",
      "metadata": {
        "id": "dWuJg0kcXHfu",
        "colab": {
          "base_uri": "https://localhost:8080/"
        },
        "outputId": "0d13d4e1-ba79-4e72-83a7-7929b719aa78"
      },
      "source": [
        "# Mount GDrive\n",
        "from google.colab import drive\n",
        "drive.mount('/content/gdrive')"
      ],
      "execution_count": null,
      "outputs": [
        {
          "output_type": "stream",
          "text": [
            "Mounted at /content/gdrive\n"
          ],
          "name": "stdout"
        }
      ]
    },
    {
      "cell_type": "code",
      "metadata": {
        "id": "RI0y1aYiYzf3",
        "colab": {
          "base_uri": "https://localhost:8080/"
        },
        "outputId": "79a70b05-c34b-419a-c551-2f23c8ef9ec2"
      },
      "source": [
        "# Path for .CSV file in google drive\n",
        "%cd /content/gdrive/My Drive/Colab Notebooks/MOOCs/Data Analysis with Python/Ch_1/"
      ],
      "execution_count": null,
      "outputs": [
        {
          "output_type": "stream",
          "text": [
            "/content/gdrive/My Drive/Colab Notebooks/MOOCs/Data Analysis with Python/Ch_1\n"
          ],
          "name": "stdout"
        }
      ]
    },
    {
      "cell_type": "markdown",
      "metadata": {
        "id": "aKlGxW64WpBs"
      },
      "source": [
        "##**Chapter-1: Data Manipulation with pandas**\n",
        "\n",
        "## Topic 1.1"
      ]
    },
    {
      "cell_type": "code",
      "metadata": {
        "id": "BGBQz4lqImHi"
      },
      "source": [
        "# Import pandas library\n",
        "import pandas as pd\n",
        "# Import Matplotlib library\n",
        "import matplotlib.pyplot as plt\n",
        "# Import Numpy library\n",
        "import numpy as np "
      ],
      "execution_count": null,
      "outputs": []
    },
    {
      "cell_type": "code",
      "metadata": {
        "id": "2EUEVbQYJAjl",
        "colab": {
          "base_uri": "https://localhost:8080/"
        },
        "outputId": "5cc5179e-5648-43db-f416-ac74bfcaee32"
      },
      "source": [
        "#Inspecting a DataFrame\n",
        "data=pd.read_csv('Data2.csv')\n",
        "\n",
        "print('------------------------------------------------------------------------------')\n",
        "# Print the head of the Data2\n",
        "print('Initial information about complete data:\\n',data.head())\n",
        "\n",
        "print('------------------------------------------------------------------------------')\n",
        "# Print information about Data2\n",
        "print('Information about data:\\n',data.info())\n",
        "\n",
        "print('------------------------------------------------------------------------------')\n",
        "# Print the shape of Data2\n",
        "print('Shape of data:\\n',data.shape)\n",
        "\n",
        "print('------------------------------------------------------------------------------')\n",
        "# Print a description of Data2\n",
        "print('Description about data:\\n',data.describe())"
      ],
      "execution_count": null,
      "outputs": [
        {
          "output_type": "stream",
          "text": [
            "------------------------------------------------------------------------------\n",
            "Initial information about complete data:\n",
            "    Country  cpc  drive_right Purchased   pop\n",
            "0   France   44         True        No  10.0\n",
            "1    Spain   27        False       Yes  20.0\n",
            "2  Germany   30         True        No  30.0\n",
            "3    Spain   38        False        No  20.0\n",
            "4  Germany   40         True       Yes  30.0\n",
            "------------------------------------------------------------------------------\n",
            "<class 'pandas.core.frame.DataFrame'>\n",
            "RangeIndex: 11 entries, 0 to 10\n",
            "Data columns (total 5 columns):\n",
            " #   Column       Non-Null Count  Dtype  \n",
            "---  ------       --------------  -----  \n",
            " 0   Country      11 non-null     object \n",
            " 1   cpc          11 non-null     int64  \n",
            " 2   drive_right  11 non-null     bool   \n",
            " 3   Purchased    11 non-null     object \n",
            " 4   pop          9 non-null      float64\n",
            "dtypes: bool(1), float64(1), int64(1), object(2)\n",
            "memory usage: 491.0+ bytes\n",
            "Information about data:\n",
            " None\n",
            "------------------------------------------------------------------------------\n",
            "Shape of data:\n",
            " (11, 5)\n",
            "------------------------------------------------------------------------------\n",
            "Description about data:\n",
            "              cpc        pop\n",
            "count  11.000000   9.000000\n",
            "mean   34.636364  33.333333\n",
            "std    13.836710  23.452079\n",
            "min    10.000000  10.000000\n",
            "25%    28.500000  20.000000\n",
            "50%    38.000000  30.000000\n",
            "75%    44.500000  40.000000\n",
            "max    52.000000  80.000000\n"
          ],
          "name": "stdout"
        }
      ]
    },
    {
      "cell_type": "code",
      "metadata": {
        "id": "NGGkwA2tJVgg",
        "colab": {
          "base_uri": "https://localhost:8080/"
        },
        "outputId": "2389329a-57ca-40b0-9be7-c0080d8b5b6b"
      },
      "source": [
        "print('------------------------------------------------------------------------------')\n",
        "# Print the values of Data2\n",
        "print('Values of data:\\n',data.values)\n",
        "\n",
        "print('------------------------------------------------------------------------------')\n",
        "# Print the column index of Data2\n",
        "print('Columns of file:\\n',data.columns)\n",
        "\n",
        "print('------------------------------------------------------------------------------')\n",
        "# Print the row index of Data2\n",
        "print('Rows in file:\\n',data.index)"
      ],
      "execution_count": null,
      "outputs": [
        {
          "output_type": "stream",
          "text": [
            "------------------------------------------------------------------------------\n",
            "Values of data:\n",
            " [['France' 44 True 'No' 10.0]\n",
            " ['Spain' 27 False 'Yes' 20.0]\n",
            " ['Germany' 30 True 'No' 30.0]\n",
            " ['Spain' 38 False 'No' 20.0]\n",
            " ['Germany' 40 True 'Yes' 30.0]\n",
            " ['France' 35 False 'Yes' 10.0]\n",
            " ['China' 52 True 'No' 80.0]\n",
            " ['India' 48 True 'Yes' 60.0]\n",
            " ['America' 45 True 'No' 40.0]\n",
            " ['Canada' 12 False 'Yes' nan]\n",
            " ['Pakistan' 10 True 'Yes' nan]]\n",
            "------------------------------------------------------------------------------\n",
            "Columns of file:\n",
            " Index(['Country', 'cpc', 'drive_right', 'Purchased', 'pop'], dtype='object')\n",
            "------------------------------------------------------------------------------\n",
            "Rows in file:\n",
            " RangeIndex(start=0, stop=11, step=1)\n"
          ],
          "name": "stdout"
        }
      ]
    },
    {
      "cell_type": "code",
      "metadata": {
        "id": "at45T19hKb7T",
        "colab": {
          "base_uri": "https://localhost:8080/"
        },
        "outputId": "dce814cb-4918-4fb8-e7f1-4061eb90e35d"
      },
      "source": [
        "# Sort data by individuals\n",
        "#for two values, we have to use list []\n",
        "data_sorted=data.sort_values(\"Country\",ascending=True)\n",
        "\n",
        "# Print the top few rows\n",
        "print(\"Sorted Data:\\n\",data_sorted.head())"
      ],
      "execution_count": null,
      "outputs": [
        {
          "output_type": "stream",
          "text": [
            "Sorted Data:\n",
            "    Country  cpc  drive_right Purchased   pop\n",
            "8  America   45         True        No  40.0\n",
            "9   Canada   12        False       Yes   NaN\n",
            "6    China   52         True        No  80.0\n",
            "0   France   44         True        No  10.0\n",
            "5   France   35        False       Yes  10.0\n"
          ],
          "name": "stdout"
        }
      ]
    },
    {
      "cell_type": "code",
      "metadata": {
        "id": "XA_FFAcRLWEp",
        "colab": {
          "base_uri": "https://localhost:8080/"
        },
        "outputId": "0849b2c4-f596-491b-d334-07905b1a0e25"
      },
      "source": [
        "#Subsetting columns\n",
        "\n",
        "# Select the cpc and drive_right columns\n",
        "data_specific_column=data[['Country','cpc','drive_right']]\n",
        "\n",
        "# Print the head of the result\n",
        "print(\"Specific Columns:\\n\",data_specific_column.head(6))"
      ],
      "execution_count": null,
      "outputs": [
        {
          "output_type": "stream",
          "text": [
            "Specific Columns:\n",
            "    Country  cpc  drive_right\n",
            "0   France   44         True\n",
            "1    Spain   27        False\n",
            "2  Germany   30         True\n",
            "3    Spain   38        False\n",
            "4  Germany   40         True\n",
            "5   France   35        False\n"
          ],
          "name": "stdout"
        }
      ]
    },
    {
      "cell_type": "code",
      "metadata": {
        "id": "jMi9zidQMRUJ",
        "colab": {
          "base_uri": "https://localhost:8080/"
        },
        "outputId": "76451048-29a5-4327-cc5c-b7bfd6493822"
      },
      "source": [
        "# Filter for rows where cpc is greater than 40\n",
        "data_rows_filter=data[data['cpc']>40]\n",
        "'''\n",
        "Outer 'data' used for whole data frame and inner 'data' used to apply conditon on column 'cpc'\n",
        "'''\n",
        "\n",
        "# See the result\n",
        "print(\"Rows after applying condition:\\n\",data_rows_filter)"
      ],
      "execution_count": null,
      "outputs": [
        {
          "output_type": "stream",
          "text": [
            "Rows after applying condition:\n",
            "    Country  cpc  drive_right Purchased   pop\n",
            "0   France   44         True        No  10.0\n",
            "6    China   52         True        No  80.0\n",
            "7    India   48         True       Yes  60.0\n",
            "8  America   45         True        No  40.0\n"
          ],
          "name": "stdout"
        }
      ]
    },
    {
      "cell_type": "code",
      "metadata": {
        "id": "J5X8vDR5MnCL",
        "colab": {
          "base_uri": "https://localhost:8080/"
        },
        "outputId": "d9f6681c-70bc-40d2-8184-278fe8137f91"
      },
      "source": [
        "# Filter for rows where Purchased is No\n",
        "data_rows_filter=data[data['Purchased']=='No']\n",
        "\n",
        "# See the result\n",
        "print(\"Rows after applying condition:\\n\",data_rows_filter)"
      ],
      "execution_count": null,
      "outputs": [
        {
          "output_type": "stream",
          "text": [
            "Rows after applying condition:\n",
            "    Country  cpc  drive_right Purchased   pop\n",
            "0   France   44         True        No  10.0\n",
            "2  Germany   30         True        No  30.0\n",
            "3    Spain   38        False        No  20.0\n",
            "6    China   52         True        No  80.0\n",
            "8  America   45         True        No  40.0\n"
          ],
          "name": "stdout"
        }
      ]
    },
    {
      "cell_type": "code",
      "metadata": {
        "id": "NQiS0pw7NPy7",
        "colab": {
          "base_uri": "https://localhost:8080/"
        },
        "outputId": "d77531a2-72d9-4a70-bbea-03ba0cf4e515"
      },
      "source": [
        "# Add total column as sum of two column\n",
        "data['Total']=data['Country']+\" \"+data['Purchased']\n",
        "\n",
        "# See the result\n",
        "print(data.head())"
      ],
      "execution_count": null,
      "outputs": [
        {
          "output_type": "stream",
          "text": [
            "   Country  cpc  drive_right Purchased   pop        Total\n",
            "0   France   44         True        No  10.0    France No\n",
            "1    Spain   27        False       Yes  20.0    Spain Yes\n",
            "2  Germany   30         True        No  30.0   Germany No\n",
            "3    Spain   38        False        No  20.0     Spain No\n",
            "4  Germany   40         True       Yes  30.0  Germany Yes\n"
          ],
          "name": "stdout"
        }
      ]
    },
    {
      "cell_type": "markdown",
      "metadata": {
        "id": "GayjRojzW1Op"
      },
      "source": [
        "##**Chapter-1: Data Manipulation with pandas**\n",
        "\n",
        "## Topic 1.2"
      ]
    },
    {
      "cell_type": "code",
      "metadata": {
        "id": "EfsrKLJfnyMW",
        "colab": {
          "base_uri": "https://localhost:8080/"
        },
        "outputId": "77ee9929-0e41-479a-b220-5382a2a9cd09"
      },
      "source": [
        "import pandas as pd\n",
        "data = pd.read_csv('Data2.csv')\n",
        "\n",
        "# Print the head of the Data1\n",
        "print(data.head())\n",
        "\n",
        "# Print the mean of weekly_sales\n",
        "print('------------------------------------------------------------------------------')\n",
        "print(\"Mean of values:\\n\",data['cpc'].mean())\n",
        "\n",
        "# Print the median of weekly_sales\n",
        "print('------------------------------------------------------------------------------')\n",
        "print(\"Median of values:\\n\",data['cpc'].median())"
      ],
      "execution_count": null,
      "outputs": [
        {
          "output_type": "stream",
          "text": [
            "   Country  cpc  drive_right Purchased   pop\n",
            "0   France   44         True        No  10.0\n",
            "1    Spain   27        False       Yes  20.0\n",
            "2  Germany   30         True        No  30.0\n",
            "3    Spain   38        False        No  20.0\n",
            "4  Germany   40         True       Yes  30.0\n",
            "------------------------------------------------------------------------------\n",
            "Mean of values:\n",
            " 34.63636363636363\n",
            "------------------------------------------------------------------------------\n",
            "Median of values:\n",
            " 38.0\n"
          ],
          "name": "stdout"
        }
      ]
    },
    {
      "cell_type": "code",
      "metadata": {
        "id": "tva-bRp0plUu",
        "colab": {
          "base_uri": "https://localhost:8080/"
        },
        "outputId": "c0ebae4f-703f-4d54-9d41-657ef7c6982a"
      },
      "source": [
        "# Print the maximum value of the column\n",
        "print(\"Maximum value of the column:\\n\",data['cpc'].max())\n",
        "\n",
        "# Print the minimum value of the column\n",
        "print('------------------------------------------------------------------------------')\n",
        "print(\"Minimum value of the column:\\n\",data['cpc'].min())"
      ],
      "execution_count": null,
      "outputs": [
        {
          "output_type": "stream",
          "text": [
            "Maximum value of the column:\n",
            " 52\n",
            "------------------------------------------------------------------------------\n",
            "Minimum value of the column:\n",
            " 10\n"
          ],
          "name": "stdout"
        }
      ]
    },
    {
      "cell_type": "code",
      "metadata": {
        "id": "02P44hVOsHTa",
        "colab": {
          "base_uri": "https://localhost:8080/"
        },
        "outputId": "2efa6234-b55d-42b6-f922-c252a55ce293"
      },
      "source": [
        "# Drop dublicate values in given column\n",
        "drop_duplicates_in_column=data.drop_duplicates('Country')\n",
        "print('Drop dublicate values in given column with other attached field values:\\n\\n',drop_duplicates_in_column)\n",
        "\n",
        "# Drop dublicate values with combinations of columns\n",
        "print('------------------------------------------------------------------------------')\n",
        "drop_duplicates_in_column=data.drop_duplicates(['Purchased','drive_right'])\n",
        "print('Drop dublicate values in combination of multiple columns with other attached field values:\\n\\n',drop_duplicates_in_column)"
      ],
      "execution_count": null,
      "outputs": [
        {
          "output_type": "stream",
          "text": [
            "Drop dublicate values in given column with other attached field values:\n",
            "\n",
            "      Country  cpc  drive_right Purchased   pop\n",
            "0     France   44         True        No  10.0\n",
            "1      Spain   27        False       Yes  20.0\n",
            "2    Germany   30         True        No  30.0\n",
            "6      China   52         True        No  80.0\n",
            "7      India   48         True       Yes  60.0\n",
            "8    America   45         True        No  40.0\n",
            "9     Canada   12        False       Yes   NaN\n",
            "10  Pakistan   10         True       Yes   NaN\n",
            "------------------------------------------------------------------------------\n",
            "Drop dublicate values in combination of multiple columns with other attached field values:\n",
            "\n",
            "    Country  cpc  drive_right Purchased   pop\n",
            "0   France   44         True        No  10.0\n",
            "1    Spain   27        False       Yes  20.0\n",
            "3    Spain   38        False        No  20.0\n",
            "4  Germany   40         True       Yes  30.0\n"
          ],
          "name": "stdout"
        }
      ]
    },
    {
      "cell_type": "code",
      "metadata": {
        "id": "1_GXexRZsnbL",
        "colab": {
          "base_uri": "https://localhost:8080/"
        },
        "outputId": "7379fef4-be3d-4953-8f73-5943463b1edb"
      },
      "source": [
        "data_new=data.head(8)\n",
        "# Count the number of each type\n",
        "count_values=data_new['cpc'].value_counts()\n",
        "print(\"Counting of values in column:\\n\",count_values)\n",
        "\n",
        "# Get the normalize value of column\n",
        "print('------------------------------------------------------------------------------')\n",
        "normalized_values=data_new['cpc'].value_counts(normalize=True)\n",
        "print(\"Nomalization of values in column:\\n\",normalized_values)\n",
        "\n",
        "# Count the occurences of values of column and sort in ascending\n",
        "print('------------------------------------------------------------------------------')\n",
        "count_sort=data_new['pop'].value_counts(ascending=True)\n",
        "print('Count the occurences of values of column and sort in ascending:\\n',count_sort)\n",
        "\n",
        "# Count the occurences of values of column with sorting and normalizing\n",
        "print('------------------------------------------------------------------------------')\n",
        "count_sort_normalize=data_new['cpc'].value_counts(sort=False,normalize=True)\n",
        "print('Count the occurences of values of column with sorting and normalization\\n',count_sort_normalize)"
      ],
      "execution_count": null,
      "outputs": [
        {
          "output_type": "stream",
          "text": [
            "Counting of values in column:\n",
            " 30    1\n",
            "44    1\n",
            "27    1\n",
            "40    1\n",
            "38    1\n",
            "52    1\n",
            "35    1\n",
            "48    1\n",
            "Name: cpc, dtype: int64\n",
            "------------------------------------------------------------------------------\n",
            "Nomalization of values in column:\n",
            " 30    0.125\n",
            "44    0.125\n",
            "27    0.125\n",
            "40    0.125\n",
            "38    0.125\n",
            "52    0.125\n",
            "35    0.125\n",
            "48    0.125\n",
            "Name: cpc, dtype: float64\n",
            "------------------------------------------------------------------------------\n",
            "Count the occurences of values of column and sort in ascending:\n",
            " 80.0    1\n",
            "60.0    1\n",
            "10.0    2\n",
            "20.0    2\n",
            "30.0    2\n",
            "Name: pop, dtype: int64\n",
            "------------------------------------------------------------------------------\n",
            "Count the occurences of values of column with sorting and normalization\n",
            " 48    0.125\n",
            "35    0.125\n",
            "52    0.125\n",
            "38    0.125\n",
            "40    0.125\n",
            "27    0.125\n",
            "44    0.125\n",
            "30    0.125\n",
            "Name: cpc, dtype: float64\n"
          ],
          "name": "stdout"
        }
      ]
    },
    {
      "cell_type": "code",
      "metadata": {
        "id": "yyhl74oUuc4W",
        "colab": {
          "base_uri": "https://localhost:8080/"
        },
        "outputId": "6e12be0f-fa3b-45fb-c265-85d963c9347d"
      },
      "source": [
        "# Calculate total values of column\n",
        "columnSum=data['cpc'].sum()\n",
        "print(\"Sum of values of a column:\\n\",columnSum)"
      ],
      "execution_count": null,
      "outputs": [
        {
          "output_type": "stream",
          "text": [
            "Sum of values of a column:\n",
            " 381\n"
          ],
          "name": "stdout"
        }
      ]
    },
    {
      "cell_type": "code",
      "metadata": {
        "id": "PEF7PQUVxKVp",
        "colab": {
          "base_uri": "https://localhost:8080/"
        },
        "outputId": "826cb07c-29d6-4c94-d7dc-53ab130ebfc5"
      },
      "source": [
        "# Group by type with respect of each country \n",
        "data_by_country=data.groupby('Country')[\"cpc\"].sum()\n",
        "print(\"Group all countries, each as single entity (no redundancy):\\n\",data_by_country)"
      ],
      "execution_count": null,
      "outputs": [
        {
          "output_type": "stream",
          "text": [
            "Group all countries, each as single entity (no redundancy):\n",
            " Country\n",
            "America     45\n",
            "Canada      12\n",
            "China       52\n",
            "France      79\n",
            "Germany     70\n",
            "India       48\n",
            "Pakistan    10\n",
            "Spain       65\n",
            "Name: cpc, dtype: int64\n"
          ],
          "name": "stdout"
        }
      ]
    },
    {
      "cell_type": "code",
      "metadata": {
        "id": "DHAbdC5QxgH1",
        "colab": {
          "base_uri": "https://localhost:8080/"
        },
        "outputId": "c09ffed9-2d50-4a9a-babd-d4bbd6fac335"
      },
      "source": [
        "# Import NumPy with the alias np\n",
        "import numpy as np\n",
        "\n",
        "# For each country, aggregate cpc: get min, max, mean, and median\n",
        "data_by_country=data.groupby('Country')['cpc'].agg([np.min,np.max,np.mean,np.median])\n",
        "\n",
        "# Print data_stats\n",
        "print('Group by of country column with cpc min, max, mean and median values:\\n',data_by_country)\n",
        "\n",
        "print('------------------------------------------------------------------------------')\n",
        "# For each country, aggregate cpc and pop: get min, max, mean, and median\n",
        "data_by_country=data.groupby('Country')[['cpc','pop']].agg([np.min,np.max,np.mean,np.median])\n",
        "\n",
        "# Print results\n",
        "print('Group by of country column with cpc,pop min, max, mean and median values:\\n',data_by_country)"
      ],
      "execution_count": null,
      "outputs": [
        {
          "output_type": "stream",
          "text": [
            "Group by of country column with cpc min, max, mean and median values:\n",
            "           amin  amax  mean  median\n",
            "Country                           \n",
            "America     45    45  45.0    45.0\n",
            "Canada      12    12  12.0    12.0\n",
            "China       52    52  52.0    52.0\n",
            "France      35    44  39.5    39.5\n",
            "Germany     30    40  35.0    35.0\n",
            "India       48    48  48.0    48.0\n",
            "Pakistan    10    10  10.0    10.0\n",
            "Spain       27    38  32.5    32.5\n",
            "------------------------------------------------------------------------------\n",
            "Group by of country column with cpc,pop min, max, mean and median values:\n",
            "           cpc                     pop                   \n",
            "         amin amax  mean median  amin  amax  mean median\n",
            "Country                                                 \n",
            "America    45   45  45.0   45.0  40.0  40.0  40.0   40.0\n",
            "Canada     12   12  12.0   12.0   NaN   NaN   NaN    NaN\n",
            "China      52   52  52.0   52.0  80.0  80.0  80.0   80.0\n",
            "France     35   44  39.5   39.5  10.0  10.0  10.0   10.0\n",
            "Germany    30   40  35.0   35.0  30.0  30.0  30.0   30.0\n",
            "India      48   48  48.0   48.0  60.0  60.0  60.0   60.0\n",
            "Pakistan   10   10  10.0   10.0   NaN   NaN   NaN    NaN\n",
            "Spain      27   38  32.5   32.5  20.0  20.0  20.0   20.0\n"
          ],
          "name": "stdout"
        }
      ]
    },
    {
      "cell_type": "code",
      "metadata": {
        "id": "o2OEM2XqyBaK",
        "colab": {
          "base_uri": "https://localhost:8080/"
        },
        "outputId": "3b904463-ce0c-41a5-e130-bb568be75a90"
      },
      "source": [
        "# Create a spreadsheet-style pivot table as a DataFrame.\n",
        "mean_cpc_by_country=data.pivot_table(values='cpc',index='Country')\n",
        "\n",
        "# Print mean_cpc for each country\n",
        "print(mean_cpc_by_country)"
      ],
      "execution_count": null,
      "outputs": [
        {
          "output_type": "stream",
          "text": [
            "           cpc\n",
            "Country       \n",
            "America   45.0\n",
            "Canada    12.0\n",
            "China     52.0\n",
            "France    39.5\n",
            "Germany   35.0\n",
            "India     48.0\n",
            "Pakistan  10.0\n",
            "Spain     32.5\n"
          ],
          "name": "stdout"
        }
      ]
    },
    {
      "cell_type": "code",
      "metadata": {
        "id": "9hJZSq0AzLP2",
        "colab": {
          "base_uri": "https://localhost:8080/"
        },
        "outputId": "5b8c2712-f77c-4dbd-daf7-4809cc1503a1"
      },
      "source": [
        "# Print cpc by country index and column pop and purchased; fill missing values with 0\n",
        "print(\"Managing cpc values with country index and columns (Purchased and pop) via 0 as fill value:\\n\",data.pivot_table(values='cpc',index='Country',columns=['Purchased','pop'],fill_value=0))"
      ],
      "execution_count": null,
      "outputs": [
        {
          "output_type": "stream",
          "text": [
            "Managing cpc values with country index and columns (Purchased and pop) via 0 as fill value:\n",
            " Purchased   No                      Yes               \n",
            "pop       10.0 20.0 30.0 40.0 80.0 10.0 20.0 30.0 60.0\n",
            "Country                                               \n",
            "America      0    0    0   45    0    0    0    0    0\n",
            "China        0    0    0    0   52    0    0    0    0\n",
            "France      44    0    0    0    0   35    0    0    0\n",
            "Germany      0    0   30    0    0    0    0   40    0\n",
            "India        0    0    0    0    0    0    0    0   48\n",
            "Spain        0   38    0    0    0    0   27    0    0\n"
          ],
          "name": "stdout"
        }
      ]
    },
    {
      "cell_type": "markdown",
      "metadata": {
        "id": "AOLXxg7eK4F0"
      },
      "source": [
        "##**Chapter-1: Data Manipulation with pandas**\n",
        "\n",
        "## Topic 1.3  Slicing and Indexing"
      ]
    },
    {
      "cell_type": "code",
      "metadata": {
        "id": "Ux_CWN4ENUvt",
        "colab": {
          "base_uri": "https://localhost:8080/"
        },
        "outputId": "77ed05b2-b228-44bd-8e4e-e1666ddb9f41"
      },
      "source": [
        "# Look at data\n",
        "print('------------------------------------------------------------------------------')\n",
        "print('Actual Data:\\n',data)\n",
        "\n",
        "# Index data by country\n",
        "data_index=data.set_index(keys='Country')\n",
        "\n",
        "# Look at data_index\n",
        "print('------------------------------------------------------------------------------')\n",
        "print(\"Data with index Country:\\n\",data_index)\n",
        "\n",
        "# Reset the index, keeping its contents\n",
        "print('------------------------------------------------------------------------------')\n",
        "print(\"Data after resetting index:\\n\",data_index.reset_index())\n",
        "\n",
        "# Reset the index, dropping its contents\n",
        "print('------------------------------------------------------------------------------')\n",
        "print(\"Data after resetting the index and drop its values:\\n\",data_index.reset_index(drop=True))"
      ],
      "execution_count": null,
      "outputs": [
        {
          "output_type": "stream",
          "text": [
            "------------------------------------------------------------------------------\n",
            "Actual Data:\n",
            "      Country  cpc  drive_right Purchased   pop\n",
            "0     France   44         True        No  10.0\n",
            "1      Spain   27        False       Yes  20.0\n",
            "2    Germany   30         True        No  30.0\n",
            "3      Spain   38        False        No  20.0\n",
            "4    Germany   40         True       Yes  30.0\n",
            "5     France   35        False       Yes  10.0\n",
            "6      China   52         True        No  80.0\n",
            "7      India   48         True       Yes  60.0\n",
            "8    America   45         True        No  40.0\n",
            "9     Canada   12        False       Yes   NaN\n",
            "10  Pakistan   10         True       Yes   NaN\n",
            "------------------------------------------------------------------------------\n",
            "Data with index Country:\n",
            "           cpc  drive_right Purchased   pop\n",
            "Country                                   \n",
            "France     44         True        No  10.0\n",
            "Spain      27        False       Yes  20.0\n",
            "Germany    30         True        No  30.0\n",
            "Spain      38        False        No  20.0\n",
            "Germany    40         True       Yes  30.0\n",
            "France     35        False       Yes  10.0\n",
            "China      52         True        No  80.0\n",
            "India      48         True       Yes  60.0\n",
            "America    45         True        No  40.0\n",
            "Canada     12        False       Yes   NaN\n",
            "Pakistan   10         True       Yes   NaN\n",
            "------------------------------------------------------------------------------\n",
            "Data after resetting index:\n",
            "      Country  cpc  drive_right Purchased   pop\n",
            "0     France   44         True        No  10.0\n",
            "1      Spain   27        False       Yes  20.0\n",
            "2    Germany   30         True        No  30.0\n",
            "3      Spain   38        False        No  20.0\n",
            "4    Germany   40         True       Yes  30.0\n",
            "5     France   35        False       Yes  10.0\n",
            "6      China   52         True        No  80.0\n",
            "7      India   48         True       Yes  60.0\n",
            "8    America   45         True        No  40.0\n",
            "9     Canada   12        False       Yes   NaN\n",
            "10  Pakistan   10         True       Yes   NaN\n",
            "------------------------------------------------------------------------------\n",
            "Data after resetting the index and drop its values:\n",
            "     cpc  drive_right Purchased   pop\n",
            "0    44         True        No  10.0\n",
            "1    27        False       Yes  20.0\n",
            "2    30         True        No  30.0\n",
            "3    38        False        No  20.0\n",
            "4    40         True       Yes  30.0\n",
            "5    35        False       Yes  10.0\n",
            "6    52         True        No  80.0\n",
            "7    48         True       Yes  60.0\n",
            "8    45         True        No  40.0\n",
            "9    12        False       Yes   NaN\n",
            "10   10         True       Yes   NaN\n"
          ],
          "name": "stdout"
        }
      ]
    },
    {
      "cell_type": "code",
      "metadata": {
        "id": "mYv0mkCiQ6zm",
        "colab": {
          "base_uri": "https://localhost:8080/"
        },
        "outputId": "79ba0d89-5c9b-4390-fe1a-2e38448dc1b6"
      },
      "source": [
        "# Make a list of countries to subset on\n",
        "countries=['Pakistan','Canada']\n",
        "\n",
        "# Subset data using square brackets\n",
        "print(\"Show the data of specific countries in data frame:\\n\",data[data['Country'].isin(countries)])\n",
        "\n",
        "print('------------------------------------------------------------------------------')\n",
        "# Subset data_index using .loc[]\n",
        "print(\"Show the data of specific countries in data frame using .loc:\\n\",data_index.loc[countries])"
      ],
      "execution_count": null,
      "outputs": [
        {
          "output_type": "stream",
          "text": [
            "Show the data of specific countries in data frame:\n",
            "      Country  cpc  drive_right Purchased  pop\n",
            "9     Canada   12        False       Yes  NaN\n",
            "10  Pakistan   10         True       Yes  NaN\n",
            "------------------------------------------------------------------------------\n",
            "Show the data of specific countries in data frame using .loc:\n",
            "           cpc  drive_right Purchased  pop\n",
            "Country                                  \n",
            "Pakistan   10         True       Yes  NaN\n",
            "Canada     12        False       Yes  NaN\n"
          ],
          "name": "stdout"
        }
      ]
    },
    {
      "cell_type": "code",
      "metadata": {
        "id": "tX4YXeztd7Qw",
        "colab": {
          "base_uri": "https://localhost:8080/"
        },
        "outputId": "5095f0c0-c944-4676-cac3-388300fbfbfb"
      },
      "source": [
        "# Setting multi-level indexes\n",
        "\n",
        "# Index data by country & pop\n",
        "data_index=data.set_index(['Country','pop'])\n",
        "\n",
        "# List of tuples: canada, 0 & Pakistan, 0\n",
        "rows_to_keep=[('Pakistan',0),('Canada',0)]\n",
        "\n",
        "# Subset for rows to keep\n",
        "print(\"Display rows with index that are given above:\\n\",data_index.loc[rows_to_keep])"
      ],
      "execution_count": null,
      "outputs": [
        {
          "output_type": "stream",
          "text": [
            "Display rows with index that are given above:\n",
            "               cpc  drive_right Purchased\n",
            "Country  pop                            \n",
            "Pakistan NaN   10         True       Yes\n",
            "Canada   NaN   12        False       Yes\n"
          ],
          "name": "stdout"
        }
      ]
    },
    {
      "cell_type": "code",
      "metadata": {
        "id": "YdSLtoKgg-6f",
        "colab": {
          "base_uri": "https://localhost:8080/"
        },
        "outputId": "aeab10e0-946d-4252-9ce0-4b7056d5d113"
      },
      "source": [
        "# Sort data_index by index values\n",
        "print(\"Sort data according to data_index assigned above:\\n\",data_index.sort_index())\n",
        "\n",
        "print('------------------------------------------------------------------------------')\n",
        "# Sort data_index by index values at the country level\n",
        "print(\"Sort 'Country' column (Specific index) in data_index:\\n\",data_index.sort_index(level='Country'))\n",
        "\n",
        "print('------------------------------------------------------------------------------')\n",
        "# Sort data_index by country and pop in ascending order\n",
        "print(\"Sort 'Country and pop' columns in data_index as ascending order:\\n\",data_index.sort_index(level=['Country','pop'],ascending=[True,True]))"
      ],
      "execution_count": null,
      "outputs": [
        {
          "output_type": "stream",
          "text": [
            "Sort data according to data_index assigned above:\n",
            "                cpc  drive_right Purchased\n",
            "Country  pop                             \n",
            "America  40.0   45         True        No\n",
            "Canada   NaN    12        False       Yes\n",
            "China    80.0   52         True        No\n",
            "France   10.0   44         True        No\n",
            "         10.0   35        False       Yes\n",
            "Germany  30.0   30         True        No\n",
            "         30.0   40         True       Yes\n",
            "India    60.0   48         True       Yes\n",
            "Pakistan NaN    10         True       Yes\n",
            "Spain    20.0   27        False       Yes\n",
            "         20.0   38        False        No\n",
            "------------------------------------------------------------------------------\n",
            "Sort 'Country' column (Specific index) in data_index:\n",
            "                cpc  drive_right Purchased\n",
            "Country  pop                             \n",
            "America  40.0   45         True        No\n",
            "Canada   NaN    12        False       Yes\n",
            "China    80.0   52         True        No\n",
            "France   10.0   44         True        No\n",
            "         10.0   35        False       Yes\n",
            "Germany  30.0   30         True        No\n",
            "         30.0   40         True       Yes\n",
            "India    60.0   48         True       Yes\n",
            "Pakistan NaN    10         True       Yes\n",
            "Spain    20.0   27        False       Yes\n",
            "         20.0   38        False        No\n",
            "------------------------------------------------------------------------------\n",
            "Sort 'Country and pop' columns in data_index as ascending order:\n",
            "                cpc  drive_right Purchased\n",
            "Country  pop                             \n",
            "America  40.0   45         True        No\n",
            "Canada   NaN    12        False       Yes\n",
            "China    80.0   52         True        No\n",
            "France   10.0   44         True        No\n",
            "         10.0   35        False       Yes\n",
            "Germany  30.0   30         True        No\n",
            "         30.0   40         True       Yes\n",
            "India    60.0   48         True       Yes\n",
            "Pakistan NaN    10         True       Yes\n",
            "Spain    20.0   27        False       Yes\n",
            "         20.0   38        False        No\n"
          ],
          "name": "stdout"
        }
      ]
    },
    {
      "cell_type": "code",
      "metadata": {
        "id": "v6uxDi_0-aid",
        "colab": {
          "base_uri": "https://localhost:8080/"
        },
        "outputId": "5eeb9b33-e37b-45bb-cd03-986e37c06118"
      },
      "source": [
        "# Sort the index of data_index\n",
        "sorted_indices=data_index.sort_index()\n",
        "\n",
        "# Subset rows from America to Germany\n",
        "print(\"Subset the data of specific countries after sorting:\\n\",sorted_indices.loc['America':'Germany'])\n"
      ],
      "execution_count": null,
      "outputs": [
        {
          "output_type": "stream",
          "text": [
            "Subset the data of specific countries after sorting:\n",
            "               cpc  drive_right Purchased\n",
            "Country pop                             \n",
            "America 40.0   45         True        No\n",
            "Canada  NaN    12        False       Yes\n",
            "China   80.0   52         True        No\n",
            "France  10.0   44         True        No\n",
            "        10.0   35        False       Yes\n",
            "Germany 30.0   30         True        No\n",
            "        30.0   40         True       Yes\n"
          ],
          "name": "stdout"
        }
      ]
    },
    {
      "cell_type": "code",
      "metadata": {
        "id": "I7rfRC7fKOez",
        "colab": {
          "base_uri": "https://localhost:8080/"
        },
        "outputId": "3f2ff700-7534-4db6-af24-2ba17764da11"
      },
      "source": [
        "# Use slicing in both directions at once\n",
        "print(\"Perform slicing in both rows and columns:\\n\",data.iloc[0:3,0:5])"
      ],
      "execution_count": null,
      "outputs": [
        {
          "output_type": "stream",
          "text": [
            "Perform slicing in both rows and columns:\n",
            "    Country  cpc  drive_right Purchased   pop\n",
            "0   France   44         True        No  10.0\n",
            "1    Spain   27        False       Yes  20.0\n",
            "2  Germany   30         True        No  30.0\n"
          ],
          "name": "stdout"
        }
      ]
    },
    {
      "cell_type": "code",
      "metadata": {
        "id": "rCkkl6YULnXm",
        "colab": {
          "base_uri": "https://localhost:8080/"
        },
        "outputId": "81778822-05c0-4cb6-9795-41ef0e258e76"
      },
      "source": [
        "# Pivot table according to cpc with index country and pop, with addition of purchased column\n",
        "sheet_style=data.pivot_table(values='cpc',index=['Country','pop'],columns='Purchased',fill_value=0)\n",
        "\n",
        "# See the result\n",
        "print(sheet_style)"
      ],
      "execution_count": null,
      "outputs": [
        {
          "output_type": "stream",
          "text": [
            "Purchased     No  Yes\n",
            "Country pop          \n",
            "America 40.0  45    0\n",
            "China   80.0  52    0\n",
            "France  10.0  44   35\n",
            "Germany 30.0  30   40\n",
            "India   60.0   0   48\n",
            "Spain   20.0  38   27\n"
          ],
          "name": "stdout"
        }
      ]
    },
    {
      "cell_type": "markdown",
      "metadata": {
        "id": "e65oSD_JqLok"
      },
      "source": [
        "# **Chapter-1: Data Manipulation with pandas**\n",
        "\n",
        "# Topic 1.4"
      ]
    },
    {
      "cell_type": "code",
      "metadata": {
        "id": "ukdBCt2IPnZQ"
      },
      "source": [
        "# Import libraries\n",
        "import pandas as pd\n",
        "import numpy as np\n",
        "\n",
        "# Import matplotlib.pyplot with alias plt\n",
        "import matplotlib.pyplot as plt"
      ],
      "execution_count": null,
      "outputs": []
    },
    {
      "cell_type": "code",
      "metadata": {
        "id": "fFd2YJ4DqxNj",
        "colab": {
          "base_uri": "https://localhost:8080/"
        },
        "outputId": "2e0e975a-d8e5-42d9-9b4c-b881702e30d6"
      },
      "source": [
        "data=pd.read_csv('Data2.csv')\n",
        "print(data.head())"
      ],
      "execution_count": null,
      "outputs": [
        {
          "output_type": "stream",
          "text": [
            "   Country  cpc  drive_right Purchased   pop\n",
            "0   France   44         True        No  10.0\n",
            "1    Spain   27        False       Yes  20.0\n",
            "2  Germany   30         True        No  30.0\n",
            "3    Spain   38        False        No  20.0\n",
            "4  Germany   40         True       Yes  30.0\n"
          ],
          "name": "stdout"
        }
      ]
    },
    {
      "cell_type": "code",
      "metadata": {
        "id": "A5K6PX_yrELb",
        "colab": {
          "base_uri": "https://localhost:8080/",
          "height": 734
        },
        "outputId": "9f86e580-09fa-418c-c64c-dea3b6570dcc"
      },
      "source": [
        "print(\"Complete data frame:\\n\",data)\n",
        "# kind plot like line and bar etc\n",
        "# Grouping of countries and each country sum of pop \n",
        "group_by_column=data.groupby('Country')['pop'].sum()\n",
        "\n",
        "# Create a line plot of group by column and sum of pop\n",
        "print(\"Name of each country and sum of its pop values:\\n\",group_by_column)\n",
        "group_by_column.plot(kind='line')\n",
        "\n",
        "# Show the plot\n",
        "#plt.show()"
      ],
      "execution_count": null,
      "outputs": [
        {
          "output_type": "stream",
          "text": [
            "Complete data frame:\n",
            "      Country  cpc  drive_right Purchased   pop\n",
            "0     France   44         True        No  10.0\n",
            "1      Spain   27        False       Yes  20.0\n",
            "2    Germany   30         True        No  30.0\n",
            "3      Spain   38        False        No  20.0\n",
            "4    Germany   40         True       Yes  30.0\n",
            "5     France   35        False       Yes  10.0\n",
            "6      China   52         True        No  80.0\n",
            "7      India   48         True       Yes  60.0\n",
            "8    America   45         True        No  40.0\n",
            "9     Canada   12        False       Yes   NaN\n",
            "10  Pakistan   10         True       Yes   NaN\n",
            "Name of each country and sum of its pop values:\n",
            " Country\n",
            "America     40.0\n",
            "Canada       0.0\n",
            "China       80.0\n",
            "France      20.0\n",
            "Germany     60.0\n",
            "India       60.0\n",
            "Pakistan     0.0\n",
            "Spain       40.0\n",
            "Name: pop, dtype: float64\n"
          ],
          "name": "stdout"
        },
        {
          "output_type": "execute_result",
          "data": {
            "text/plain": [
              "<matplotlib.axes._subplots.AxesSubplot at 0x7f0fffdc8f98>"
            ]
          },
          "metadata": {
            "tags": []
          },
          "execution_count": 29
        },
        {
          "output_type": "display_data",
          "data": {
            "image/png": "[encoded data removed]",
            "text/plain": [
              "<Figure size 432x288 with 1 Axes>"
            ]
          },
          "metadata": {
            "tags": [],
            "needs_background": "light"
          }
        }
      ]
    },
    {
      "cell_type": "code",
      "metadata": {
        "id": "-YkdajECt-jE",
        "colab": {
          "base_uri": "https://localhost:8080/",
          "height": 440
        },
        "outputId": "e944fd16-9600-4549-a151-2644ef998590"
      },
      "source": [
        "tail_data=data.tail()\n",
        "print(\"Tail data of data:\\n\",tail_data)\n",
        "# Scatter plot of pop vs Country with title\n",
        "tail_data.plot(x='pop',y='Country',kind='scatter',title='Countries vs Pop')"
      ],
      "execution_count": null,
      "outputs": [
        {
          "output_type": "stream",
          "text": [
            "Tail data of data:\n",
            "      Country  cpc  drive_right Purchased   pop\n",
            "6      China   52         True        No  80.0\n",
            "7      India   48         True       Yes  60.0\n",
            "8    America   45         True        No  40.0\n",
            "9     Canada   12        False       Yes   NaN\n",
            "10  Pakistan   10         True       Yes   NaN\n"
          ],
          "name": "stdout"
        },
        {
          "output_type": "execute_result",
          "data": {
            "text/plain": [
              "<matplotlib.axes._subplots.AxesSubplot at 0x7f0fffd20e10>"
            ]
          },
          "metadata": {
            "tags": []
          },
          "execution_count": 30
        },
        {
          "output_type": "display_data",
          "data": {
            "image/png": "[encoded data removed]",
            "text/plain": [
              "<Figure size 432x288 with 1 Axes>"
            ]
          },
          "metadata": {
            "tags": [],
            "needs_background": "light"
          }
        }
      ]
    },
    {
      "cell_type": "code",
      "metadata": {
        "id": "WRCnxD3D3svS",
        "colab": {
          "base_uri": "https://localhost:8080/",
          "height": 265
        },
        "outputId": "8da9fa9b-1cd6-44b4-c8a7-03541683e85a"
      },
      "source": [
        "# Histogram of America's cpc in country column of data  \n",
        "data[data[\"Country\"]==\"America\"][\"cpc\"].hist()\n",
        "\n",
        "# Histogram of China cpc in country column of data\n",
        "data[data[\"Country\"]==\"China\"][\"cpc\"].hist()\n",
        "\n",
        "# Add a legend\n",
        "plt.legend([\"America\",\"China\"])\n",
        "\n",
        "# Show the plot\n",
        "plt.show()"
      ],
      "execution_count": null,
      "outputs": [
        {
          "output_type": "display_data",
          "data": {
            "image/png": "[encoded data removed]",
            "text/plain": [
              "<Figure size 432x288 with 1 Axes>"
            ]
          },
          "metadata": {
            "tags": [],
            "needs_background": "light"
          }
        }
      ]
    },
    {
      "cell_type": "code",
      "metadata": {
        "id": "aIUiqhSA6qRV",
        "colab": {
          "base_uri": "https://localhost:8080/",
          "height": 745
        },
        "outputId": "6936abb6-4f98-4980-fd6c-0935f68313c6"
      },
      "source": [
        "# Check individual values for missing values\n",
        "print(\"Missing values in whole data:\\n\",data.isna())\n",
        "\n",
        "print('------------------------------------------------------------------------------')\n",
        "# Check each column for missing values\n",
        "print(\"Missing values in each column:\\n\",data.isna().any())\n",
        "\n",
        "print('------------------------------------------------------------------------------')\n",
        "# Bar plot of missing values by variable\n",
        "print(\"Sum of missing values in each column with bar chart:\\n\",data.isna().sum().plot(kind='bar'))\n",
        "\n",
        "# Show plot\n",
        "plt.show()"
      ],
      "execution_count": null,
      "outputs": [
        {
          "output_type": "stream",
          "text": [
            "Missing values in whole data:\n",
            "     Country    cpc  drive_right  Purchased    pop\n",
            "0     False  False        False      False  False\n",
            "1     False  False        False      False  False\n",
            "2     False  False        False      False  False\n",
            "3     False  False        False      False  False\n",
            "4     False  False        False      False  False\n",
            "5     False  False        False      False  False\n",
            "6     False  False        False      False  False\n",
            "7     False  False        False      False  False\n",
            "8     False  False        False      False  False\n",
            "9     False  False        False      False   True\n",
            "10    False  False        False      False   True\n",
            "------------------------------------------------------------------------------\n",
            "Missing values in each column:\n",
            " Country        False\n",
            "cpc            False\n",
            "drive_right    False\n",
            "Purchased      False\n",
            "pop             True\n",
            "dtype: bool\n",
            "------------------------------------------------------------------------------\n",
            "Sum of missing values in each column with bar chart:\n",
            " AxesSubplot(0.125,0.125;0.775x0.755)\n"
          ],
          "name": "stdout"
        },
        {
          "output_type": "display_data",
          "data": {
            "image/png": "[encoded data removed]",
            "text/plain": [
              "<Figure size 432x288 with 1 Axes>"
            ]
          },
          "metadata": {
            "tags": [],
            "needs_background": "light"
          }
        }
      ]
    },
    {
      "cell_type": "code",
      "metadata": {
        "id": "3WZ2Ht7ll3LL",
        "colab": {
          "base_uri": "https://localhost:8080/"
        },
        "outputId": "58aeaa9c-176f-410b-c93f-8c498179802e"
      },
      "source": [
        "# Remove rows with missing values\n",
        "drop_missing=data.dropna()\n",
        "\n",
        "# Check if any columns contain missing values\n",
        "print(drop_missing.isna().any())"
      ],
      "execution_count": null,
      "outputs": [
        {
          "output_type": "stream",
          "text": [
            "Country        False\n",
            "cpc            False\n",
            "drive_right    False\n",
            "Purchased      False\n",
            "pop            False\n",
            "dtype: bool\n"
          ],
          "name": "stdout"
        }
      ]
    },
    {
      "cell_type": "code",
      "metadata": {
        "id": "9tWl8Rh7n3BF",
        "colab": {
          "base_uri": "https://localhost:8080/",
          "height": 378
        },
        "outputId": "b0a1defc-e686-4f18-983e-a3552c870ae9"
      },
      "source": [
        "data"
      ],
      "execution_count": null,
      "outputs": [
        {
          "output_type": "execute_result",
          "data": {
            "text/html": [
              "<div>\n",
              "<style scoped>\n",
              "    .dataframe tbody tr th:only-of-type {\n",
              "        vertical-align: middle;\n",
              "    }\n",
              "\n",
              "    .dataframe tbody tr th {\n",
              "        vertical-align: top;\n",
              "    }\n",
              "\n",
              "    .dataframe thead th {\n",
              "        text-align: right;\n",
              "    }\n",
              "</style>\n",
              "<table border=\"1\" class=\"dataframe\">\n",
              "  <thead>\n",
              "    <tr style=\"text-align: right;\">\n",
              "      <th></th>\n",
              "      <th>Country</th>\n",
              "      <th>cpc</th>\n",
              "      <th>drive_right</th>\n",
              "      <th>Purchased</th>\n",
              "      <th>pop</th>\n",
              "    </tr>\n",
              "  </thead>\n",
              "  <tbody>\n",
              "    <tr>\n",
              "      <th>0</th>\n",
              "      <td>France</td>\n",
              "      <td>44</td>\n",
              "      <td>True</td>\n",
              "      <td>No</td>\n",
              "      <td>10.0</td>\n",
              "    </tr>\n",
              "    <tr>\n",
              "      <th>1</th>\n",
              "      <td>Spain</td>\n",
              "      <td>27</td>\n",
              "      <td>False</td>\n",
              "      <td>Yes</td>\n",
              "      <td>20.0</td>\n",
              "    </tr>\n",
              "    <tr>\n",
              "      <th>2</th>\n",
              "      <td>Germany</td>\n",
              "      <td>30</td>\n",
              "      <td>True</td>\n",
              "      <td>No</td>\n",
              "      <td>30.0</td>\n",
              "    </tr>\n",
              "    <tr>\n",
              "      <th>3</th>\n",
              "      <td>Spain</td>\n",
              "      <td>38</td>\n",
              "      <td>False</td>\n",
              "      <td>No</td>\n",
              "      <td>20.0</td>\n",
              "    </tr>\n",
              "    <tr>\n",
              "      <th>4</th>\n",
              "      <td>Germany</td>\n",
              "      <td>40</td>\n",
              "      <td>True</td>\n",
              "      <td>Yes</td>\n",
              "      <td>30.0</td>\n",
              "    </tr>\n",
              "    <tr>\n",
              "      <th>5</th>\n",
              "      <td>France</td>\n",
              "      <td>35</td>\n",
              "      <td>False</td>\n",
              "      <td>Yes</td>\n",
              "      <td>10.0</td>\n",
              "    </tr>\n",
              "    <tr>\n",
              "      <th>6</th>\n",
              "      <td>China</td>\n",
              "      <td>52</td>\n",
              "      <td>True</td>\n",
              "      <td>No</td>\n",
              "      <td>80.0</td>\n",
              "    </tr>\n",
              "    <tr>\n",
              "      <th>7</th>\n",
              "      <td>India</td>\n",
              "      <td>48</td>\n",
              "      <td>True</td>\n",
              "      <td>Yes</td>\n",
              "      <td>60.0</td>\n",
              "    </tr>\n",
              "    <tr>\n",
              "      <th>8</th>\n",
              "      <td>America</td>\n",
              "      <td>45</td>\n",
              "      <td>True</td>\n",
              "      <td>No</td>\n",
              "      <td>40.0</td>\n",
              "    </tr>\n",
              "    <tr>\n",
              "      <th>9</th>\n",
              "      <td>Canada</td>\n",
              "      <td>12</td>\n",
              "      <td>False</td>\n",
              "      <td>Yes</td>\n",
              "      <td>NaN</td>\n",
              "    </tr>\n",
              "    <tr>\n",
              "      <th>10</th>\n",
              "      <td>Pakistan</td>\n",
              "      <td>10</td>\n",
              "      <td>True</td>\n",
              "      <td>Yes</td>\n",
              "      <td>NaN</td>\n",
              "    </tr>\n",
              "  </tbody>\n",
              "</table>\n",
              "</div>"
            ],
            "text/plain": [
              "     Country  cpc  drive_right Purchased   pop\n",
              "0     France   44         True        No  10.0\n",
              "1      Spain   27        False       Yes  20.0\n",
              "2    Germany   30         True        No  30.0\n",
              "3      Spain   38        False        No  20.0\n",
              "4    Germany   40         True       Yes  30.0\n",
              "5     France   35        False       Yes  10.0\n",
              "6      China   52         True        No  80.0\n",
              "7      India   48         True       Yes  60.0\n",
              "8    America   45         True        No  40.0\n",
              "9     Canada   12        False       Yes   NaN\n",
              "10  Pakistan   10         True       Yes   NaN"
            ]
          },
          "metadata": {
            "tags": []
          },
          "execution_count": 34
        }
      ]
    },
    {
      "cell_type": "code",
      "metadata": {
        "id": "kLYz41kyn7nK",
        "colab": {
          "base_uri": "https://localhost:8080/",
          "height": 281
        },
        "outputId": "fade54b0-894d-4f9f-89a0-0b5948f0da12"
      },
      "source": [
        "# List the columns with missing values\n",
        "cols_missing_val=[\"pop\"]\n",
        "\n",
        "# Create histograms showing the distributions cols_missing_val\n",
        "data[cols_missing_val].hist()\n",
        "\n",
        "# Show the plot\n",
        "plt.show()"
      ],
      "execution_count": null,
      "outputs": [
        {
          "output_type": "display_data",
          "data": {
            "image/png": "[encoded data removed]",
            "text/plain": [
              "<Figure size 432x288 with 1 Axes>"
            ]
          },
          "metadata": {
            "tags": [],
            "needs_background": "light"
          }
        }
      ]
    },
    {
      "cell_type": "code",
      "metadata": {
        "id": "DCzWb9pDovyX",
        "colab": {
          "base_uri": "https://localhost:8080/"
        },
        "outputId": "98d363bd-cd53-44bf-c30d-270868a32ff6"
      },
      "source": [
        "# Create a list of dictionaries with new data\n",
        "avocados_list = [\n",
        "                 {'Date':\"2019-11-03\",'Small_sold':10376832,'Large_sold':7835071},\n",
        "                 {'Date':\"2019-11-02\",'Small_sold':10717154,'Large_sold':8561348},\n",
        "                 {'Date':\"2019-11-12\",'Small_sold':10828111,'Large_sold':8671470},\n",
        "                 ]\n",
        "\n",
        "# Convert list into DataFrame\n",
        "avocados_2019=pd.DataFrame(avocados_list)\n",
        "\n",
        "# Print the new DataFrame\n",
        "print(\"Conversion of list of dictionary into dataframe:\\n\",avocados_2019)"
      ],
      "execution_count": null,
      "outputs": [
        {
          "output_type": "stream",
          "text": [
            "Conversion of list of dictionary into dataframe:\n",
            "          Date  Small_sold  Large_sold\n",
            "0  2019-11-03    10376832     7835071\n",
            "1  2019-11-02    10717154     8561348\n",
            "2  2019-11-12    10828111     8671470\n"
          ],
          "name": "stdout"
        }
      ]
    },
    {
      "cell_type": "code",
      "metadata": {
        "id": "GGQ1TM_WO3gm",
        "colab": {
          "base_uri": "https://localhost:8080/"
        },
        "outputId": "d2366328-9a2f-4f66-f158-1ed29a28c0da"
      },
      "source": [
        "# Create a dictionary of lists with new data\n",
        "avocados_dict={\"Date\":['2019-11-03','2019-11-02','2019-11-12'],\n",
        "               \"Small_sold\":[10376832,10717154,10828111],\n",
        "               \"Large_Sold\":[7835071,8561348,8671470],\n",
        "    \n",
        "}\n",
        "\n",
        "# Convert dictionary into DataFrame\n",
        "avocados_2019=pd.DataFrame(avocados_list)\n",
        "\n",
        "# Print the new DataFrame\n",
        "print(\"Conversion of dictionary of list into dataframe:\\n\",avocados_2019)"
      ],
      "execution_count": null,
      "outputs": [
        {
          "output_type": "stream",
          "text": [
            "Conversion of dictionary of list into dataframe:\n",
            "          Date  Small_sold  Large_sold\n",
            "0  2019-11-03    10376832     7835071\n",
            "1  2019-11-02    10717154     8561348\n",
            "2  2019-11-12    10828111     8671470\n"
          ],
          "name": "stdout"
        }
      ]
    },
    {
      "cell_type": "code",
      "metadata": {
        "id": "tpnj3fUwVKmx",
        "colab": {
          "base_uri": "https://localhost:8080/"
        },
        "outputId": "fabff4db-1dc4-401d-93e4-bc57a246b2f8"
      },
      "source": [
        "# Type of dataframe\n",
        "type(avocados_2019)"
      ],
      "execution_count": null,
      "outputs": [
        {
          "output_type": "execute_result",
          "data": {
            "text/plain": [
              "pandas.core.frame.DataFrame"
            ]
          },
          "metadata": {
            "tags": []
          },
          "execution_count": 53
        }
      ]
    },
    {
      "cell_type": "code",
      "metadata": {
        "id": "Nd-rI4kiVepn",
        "colab": {
          "base_uri": "https://localhost:8080/"
        },
        "outputId": "b8c8c216-d863-4505-9b14-eb6eebcf7d56"
      },
      "source": [
        "# Create avocado_sorted in ascending order w.r.t date\n",
        "avocados_2019_sorted = avocados_2019.sort_values(by='Date',ascending=True)\n",
        "\n",
        "# Print avocados_2019_sorted\n",
        "print(\"Dataframe after sorting:\\n\",avocados_2019_sorted)\n",
        "\n",
        "# Save as Avocados_Sorted_2019.csv\n",
        "avocados_2019_sorted.to_csv(\"Avocados_Sorted_2019\")"
      ],
      "execution_count": null,
      "outputs": [
        {
          "output_type": "stream",
          "text": [
            "Dataframe after sorting:\n",
            "          Date  Small_sold  Large_sold\n",
            "1  2019-11-02    10717154     8561348\n",
            "0  2019-11-03    10376832     7835071\n",
            "2  2019-11-12    10828111     8671470\n"
          ],
          "name": "stdout"
        }
      ]
    },
    {
      "cell_type": "code",
      "metadata": {
        "id": "TVgMHUFmWbos"
      },
      "source": [
        ""
      ],
      "execution_count": null,
      "outputs": []
    }
  ]
}