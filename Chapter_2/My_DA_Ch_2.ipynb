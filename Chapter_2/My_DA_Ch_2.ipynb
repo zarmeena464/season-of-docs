{
  "nbformat": 4,
  "nbformat_minor": 0,
  "metadata": {
    "colab": {
      "name": "My_DA_Ch_2.ipynb",
      "provenance": [],
      "collapsed_sections": [],
      "include_colab_link": true
    },
    "kernelspec": {
      "name": "python3",
      "display_name": "Python 3"
    }
  },
  "cells": [
    {
      "cell_type": "markdown",
      "metadata": {
        "id": "view-in-github",
        "colab_type": "text"
      },
      "source": [
        "<a href=\"https://colab.research.google.com/github/zarmeena464/season-of-docs/blob/main/Chapter_2/My_DA_Ch_2.ipynb\" target=\"_parent\"><img src=\"https://colab.research.google.com/assets/colab-badge.svg\" alt=\"Open In Colab\"/></a>"
      ]
    },
    {
      "cell_type": "code",
      "metadata": {
        "id": "zjRHGQw_1FxN",
        "colab": {
          "base_uri": "https://localhost:8080/"
        },
        "outputId": "caf7ba70-c836-4672-f35a-16a63a0d10c0"
      },
      "source": [
        "# Mount GDrive\n",
        "from google.colab import drive\n",
        "drive.mount('/content/gdrive')"
      ],
      "execution_count": null,
      "outputs": [
        {
          "output_type": "stream",
          "text": [
            "Mounted at /content/gdrive\n"
          ],
          "name": "stdout"
        }
      ]
    },
    {
      "cell_type": "code",
      "metadata": {
        "id": "X4nOIyzQ1hwy",
        "colab": {
          "base_uri": "https://localhost:8080/"
        },
        "outputId": "3d73a3a4-da64-44cf-8fde-b0ead76229ad"
      },
      "source": [
        "# Path for .CSV file in google drive\n",
        "%cd /content/gdrive/My Drive/Colab Notebooks/MOOCs/Data Analysis with Python/Chapter_2/"
      ],
      "execution_count": null,
      "outputs": [
        {
          "output_type": "stream",
          "text": [
            "/content/gdrive/My Drive/Colab Notebooks/MOOCs/Data Analysis with Python/Chapter_2\n"
          ],
          "name": "stdout"
        }
      ]
    },
    {
      "cell_type": "markdown",
      "metadata": {
        "id": "tmvnQgdY2bak"
      },
      "source": [
        "# **Chapter-2**\n",
        "##   Topic 2.1"
      ]
    },
    {
      "cell_type": "code",
      "metadata": {
        "id": "3nBNXpPk1-53",
        "colab": {
          "base_uri": "https://localhost:8080/"
        },
        "outputId": "e7ded5cb-23be-458b-add5-ffae1b9ebffe"
      },
      "source": [
        "# Import pandas\n",
        "import pandas as pd\n",
        "\n",
        "# Read 'Data2.csv' into a DataFrame: silver\n",
        "silver=pd.read_csv('Data2.csv')\n",
        "\n",
        "# Read 'Data3.csv' into a DataFrame: gold\n",
        "gold=pd.read_csv('Data3.csv')\n",
        "\n",
        "# Print the first five rows of gold\n",
        "print('First five rows of gold:\\n',gold.head())"
      ],
      "execution_count": null,
      "outputs": [
        {
          "output_type": "stream",
          "text": [
            "First five rows of gold:\n",
            "   Country  gold  silver        date\n",
            "0   Qatar   200       0  2014-01-01\n",
            "1  Turkey   400       1  2015-02-02\n",
            "2   Dubai   600       2  2016-03-03\n",
            "3  Europe   800       3  2017-04-04\n",
            "4      UK     0       4  3017-05-05\n"
          ],
          "name": "stdout"
        }
      ]
    },
    {
      "cell_type": "code",
      "metadata": {
        "id": "QTGczW0ePQwZ",
        "colab": {
          "base_uri": "https://localhost:8080/"
        },
        "outputId": "5535588a-eea1-4cac-9a8a-9e791a9f94d0"
      },
      "source": [
        "# Create the list of file names: filenames\n",
        "filenames=['Data2.csv','Data3.csv']\n",
        "\n",
        "# Create the list of two DataFrames: dataframes\n",
        "dataframes=[]\n",
        "for i in filenames:\n",
        "  dataframes.append(pd.read_csv(i))\n",
        "\n",
        "# Print top 5 rows of 1st DataFrame in dataframes\n",
        "print('First five rows of 1st dataframe:\\n',dataframes[1].head())"
      ],
      "execution_count": null,
      "outputs": [
        {
          "output_type": "stream",
          "text": [
            "First five rows of 1st dataframe:\n",
            "   Country  gold  silver        date\n",
            "0   Qatar   200       0  2014-01-01\n",
            "1  Turkey   400       1  2015-02-02\n",
            "2   Dubai   600       2  2016-03-03\n",
            "3  Europe   800       3  2017-04-04\n",
            "4      UK     0       4  3017-05-05\n"
          ],
          "name": "stdout"
        }
      ]
    },
    {
      "cell_type": "code",
      "metadata": {
        "id": "x9oM6alkMzug",
        "colab": {
          "base_uri": "https://localhost:8080/"
        },
        "outputId": "e65903cc-fffe-4438-ced9-33dc2e683371"
      },
      "source": [
        "'''\n",
        "Make a copy of gold: medals \n",
        "(Without use of copy(), medal refer to actual contents and hence modification in refered \n",
        "content can change actual content.)\n",
        "'''\n",
        "medals=gold.copy()\n",
        "\n",
        "# Create list of new column labels: new_labels\n",
        "new_labels=['NOC','Country','Gold','Date']\n",
        "\n",
        "# Rename the columns of medals using new_labels\n",
        "medals.columns=new_labels\n",
        "\n",
        "# Add columns 'silver' & 'gold' to medals\n",
        "medals['silver_2']=gold['silver']\n",
        "medals['gold_2']=gold['gold']\n",
        "\n",
        "# Print the head of medals\n",
        "print(\"Print the copy of gold named as 'medal' with new columns:\\n\",medals.head())"
      ],
      "execution_count": null,
      "outputs": [
        {
          "output_type": "stream",
          "text": [
            "Print the copy of gold named as 'medal' with new columns:\n",
            "       NOC  Country  Gold        Date  silver_2  gold_2\n",
            "0   Qatar      200     0  2014-01-01         0     200\n",
            "1  Turkey      400     1  2015-02-02         1     400\n",
            "2   Dubai      600     2  2016-03-03         2     600\n",
            "3  Europe      800     3  2017-04-04         3     800\n",
            "4      UK        0     4  3017-05-05         4       0\n"
          ],
          "name": "stdout"
        }
      ]
    },
    {
      "cell_type": "code",
      "metadata": {
        "id": "o9f1ehaDPtZP",
        "colab": {
          "base_uri": "https://localhost:8080/"
        },
        "outputId": "d6d77931-920f-4e52-8056-b34da1b22335"
      },
      "source": [
        "# Read 'Data3.csv' into a DataFrame with index country\n",
        "file1=pd.read_csv('Data3.csv',index_col='Country')\n",
        "\n",
        "# Print the head of file1\n",
        "print(\"File 1 with index Country:\\n\",file1.head())\n",
        "\n",
        "print('------------------------------------------------------------------------------')\n",
        "# Sort the index of file1 in alphabetical order into file2\n",
        "file2=file1.sort_index()\n",
        "\n",
        "# Print the head of file2\n",
        "print(\"File 2 with sorted index Country (Ascending order):\\n\",file2.head())\n",
        "\n",
        "print('------------------------------------------------------------------------------')\n",
        "# Sort the index of file1 in reverse alphabetical order into file3\n",
        "file3=file1.sort_index(ascending=False)\n",
        "\n",
        "# Print the head of file3\n",
        "print(\"File 3 with sorted index Country (Descending order):\\n\",file3.head())\n",
        "\n",
        "print('------------------------------------------------------------------------------')\n",
        "# Sort file1 numerically using the values of 'gold' into file4\n",
        "file4=file1.sort_values('gold')\n",
        "\n",
        "# Print the head of file4\n",
        "print(\"File 4 with sorted values of gold:\\n\",file4.head())"
      ],
      "execution_count": null,
      "outputs": [
        {
          "output_type": "stream",
          "text": [
            "File 1 with index Country:\n",
            "          gold  silver        date\n",
            "Country                          \n",
            "Qatar     200       0  2014-01-01\n",
            "Turkey    400       1  2015-02-02\n",
            "Dubai     600       2  2016-03-03\n",
            "Europe    800       3  2017-04-04\n",
            "UK          0       4  3017-05-05\n",
            "------------------------------------------------------------------------------\n",
            "File 2 with sorted index Country (Ascending order):\n",
            "          gold  silver        date\n",
            "Country                          \n",
            "Dubai     600       2  2016-03-03\n",
            "Europe    800       3  2017-04-04\n",
            "Qatar     200       0  2014-01-01\n",
            "Turkey    400       1  2015-02-02\n",
            "UK          0       4  3017-05-05\n",
            "------------------------------------------------------------------------------\n",
            "File 3 with sorted index Country (Descending order):\n",
            "          gold  silver        date\n",
            "Country                          \n",
            "UK          0       4  3017-05-05\n",
            "Turkey    400       1  2015-02-02\n",
            "Qatar     200       0  2014-01-01\n",
            "Europe    800       3  2017-04-04\n",
            "Dubai     600       2  2016-03-03\n",
            "------------------------------------------------------------------------------\n",
            "File 4 with sorted values of gold:\n",
            "          gold  silver        date\n",
            "Country                          \n",
            "UK          0       4  3017-05-05\n",
            "Qatar     200       0  2014-01-01\n",
            "Turkey    400       1  2015-02-02\n",
            "Dubai     600       2  2016-03-03\n",
            "Europe    800       3  2017-04-04\n"
          ],
          "name": "stdout"
        }
      ]
    },
    {
      "cell_type": "code",
      "metadata": {
        "id": "yolleh7G9knd",
        "colab": {
          "base_uri": "https://localhost:8080/",
          "height": 228
        },
        "outputId": "2678aea1-9592-4b28-b148-ea291f368500"
      },
      "source": [
        "file1"
      ],
      "execution_count": null,
      "outputs": [
        {
          "output_type": "execute_result",
          "data": {
            "text/html": [
              "<div>\n",
              "<style scoped>\n",
              "    .dataframe tbody tr th:only-of-type {\n",
              "        vertical-align: middle;\n",
              "    }\n",
              "\n",
              "    .dataframe tbody tr th {\n",
              "        vertical-align: top;\n",
              "    }\n",
              "\n",
              "    .dataframe thead th {\n",
              "        text-align: right;\n",
              "    }\n",
              "</style>\n",
              "<table border=\"1\" class=\"dataframe\">\n",
              "  <thead>\n",
              "    <tr style=\"text-align: right;\">\n",
              "      <th></th>\n",
              "      <th>gold</th>\n",
              "      <th>silver</th>\n",
              "      <th>date</th>\n",
              "    </tr>\n",
              "    <tr>\n",
              "      <th>Country</th>\n",
              "      <th></th>\n",
              "      <th></th>\n",
              "      <th></th>\n",
              "    </tr>\n",
              "  </thead>\n",
              "  <tbody>\n",
              "    <tr>\n",
              "      <th>Qatar</th>\n",
              "      <td>200</td>\n",
              "      <td>0</td>\n",
              "      <td>2014-01-01</td>\n",
              "    </tr>\n",
              "    <tr>\n",
              "      <th>Turkey</th>\n",
              "      <td>400</td>\n",
              "      <td>1</td>\n",
              "      <td>2015-02-02</td>\n",
              "    </tr>\n",
              "    <tr>\n",
              "      <th>Dubai</th>\n",
              "      <td>600</td>\n",
              "      <td>2</td>\n",
              "      <td>2016-03-03</td>\n",
              "    </tr>\n",
              "    <tr>\n",
              "      <th>Europe</th>\n",
              "      <td>800</td>\n",
              "      <td>3</td>\n",
              "      <td>2017-04-04</td>\n",
              "    </tr>\n",
              "    <tr>\n",
              "      <th>UK</th>\n",
              "      <td>0</td>\n",
              "      <td>4</td>\n",
              "      <td>3017-05-05</td>\n",
              "    </tr>\n",
              "  </tbody>\n",
              "</table>\n",
              "</div>"
            ],
            "text/plain": [
              "         gold  silver        date\n",
              "Country                          \n",
              "Qatar     200       0  2014-01-01\n",
              "Turkey    400       1  2015-02-02\n",
              "Dubai     600       2  2016-03-03\n",
              "Europe    800       3  2017-04-04\n",
              "UK          0       4  3017-05-05"
            ]
          },
          "metadata": {
            "tags": []
          },
          "execution_count": 7
        }
      ]
    },
    {
      "cell_type": "code",
      "metadata": {
        "id": "p2N226oBBdq2",
        "colab": {
          "base_uri": "https://localhost:8080/",
          "height": 439
        },
        "outputId": "445c1d51-33cc-48c7-df1a-16a6c795f84f"
      },
      "source": [
        "file1=pd.read_csv('Data2.csv',index_col='Country')\n",
        "# Print shape of file\n",
        "print('Shape of file:\\n',file1.shape)\n",
        "\n",
        "# Drop rows with null counts in file\n",
        "file5=file1.dropna()\n",
        "\n",
        "print('------------------------------------------------------------------------------')\n",
        "# Print shape of file after dropping the rows\n",
        "print(\"Shape of file after dropping null values:\\n\",file5.shape)\n",
        "file5"
      ],
      "execution_count": null,
      "outputs": [
        {
          "output_type": "stream",
          "text": [
            "Shape of file:\n",
            " (11, 4)\n",
            "------------------------------------------------------------------------------\n",
            "Shape of file after dropping null values:\n",
            " (9, 4)\n"
          ],
          "name": "stdout"
        },
        {
          "output_type": "execute_result",
          "data": {
            "text/html": [
              "<div>\n",
              "<style scoped>\n",
              "    .dataframe tbody tr th:only-of-type {\n",
              "        vertical-align: middle;\n",
              "    }\n",
              "\n",
              "    .dataframe tbody tr th {\n",
              "        vertical-align: top;\n",
              "    }\n",
              "\n",
              "    .dataframe thead th {\n",
              "        text-align: right;\n",
              "    }\n",
              "</style>\n",
              "<table border=\"1\" class=\"dataframe\">\n",
              "  <thead>\n",
              "    <tr style=\"text-align: right;\">\n",
              "      <th></th>\n",
              "      <th>cpc</th>\n",
              "      <th>drive_right</th>\n",
              "      <th>Purchased</th>\n",
              "      <th>pop</th>\n",
              "    </tr>\n",
              "    <tr>\n",
              "      <th>Country</th>\n",
              "      <th></th>\n",
              "      <th></th>\n",
              "      <th></th>\n",
              "      <th></th>\n",
              "    </tr>\n",
              "  </thead>\n",
              "  <tbody>\n",
              "    <tr>\n",
              "      <th>France</th>\n",
              "      <td>44</td>\n",
              "      <td>True</td>\n",
              "      <td>No</td>\n",
              "      <td>10.0</td>\n",
              "    </tr>\n",
              "    <tr>\n",
              "      <th>Spain</th>\n",
              "      <td>27</td>\n",
              "      <td>False</td>\n",
              "      <td>Yes</td>\n",
              "      <td>20.0</td>\n",
              "    </tr>\n",
              "    <tr>\n",
              "      <th>Germany</th>\n",
              "      <td>30</td>\n",
              "      <td>True</td>\n",
              "      <td>No</td>\n",
              "      <td>30.0</td>\n",
              "    </tr>\n",
              "    <tr>\n",
              "      <th>Spain</th>\n",
              "      <td>38</td>\n",
              "      <td>False</td>\n",
              "      <td>No</td>\n",
              "      <td>20.0</td>\n",
              "    </tr>\n",
              "    <tr>\n",
              "      <th>Germany</th>\n",
              "      <td>40</td>\n",
              "      <td>True</td>\n",
              "      <td>Yes</td>\n",
              "      <td>30.0</td>\n",
              "    </tr>\n",
              "    <tr>\n",
              "      <th>France</th>\n",
              "      <td>35</td>\n",
              "      <td>False</td>\n",
              "      <td>Yes</td>\n",
              "      <td>10.0</td>\n",
              "    </tr>\n",
              "    <tr>\n",
              "      <th>China</th>\n",
              "      <td>52</td>\n",
              "      <td>True</td>\n",
              "      <td>No</td>\n",
              "      <td>80.0</td>\n",
              "    </tr>\n",
              "    <tr>\n",
              "      <th>India</th>\n",
              "      <td>48</td>\n",
              "      <td>True</td>\n",
              "      <td>Yes</td>\n",
              "      <td>60.0</td>\n",
              "    </tr>\n",
              "    <tr>\n",
              "      <th>America</th>\n",
              "      <td>45</td>\n",
              "      <td>True</td>\n",
              "      <td>No</td>\n",
              "      <td>40.0</td>\n",
              "    </tr>\n",
              "  </tbody>\n",
              "</table>\n",
              "</div>"
            ],
            "text/plain": [
              "         cpc  drive_right Purchased   pop\n",
              "Country                                  \n",
              "France    44         True        No  10.0\n",
              "Spain     27        False       Yes  20.0\n",
              "Germany   30         True        No  30.0\n",
              "Spain     38        False        No  20.0\n",
              "Germany   40         True       Yes  30.0\n",
              "France    35        False       Yes  10.0\n",
              "China     52         True        No  80.0\n",
              "India     48         True       Yes  60.0\n",
              "America   45         True        No  40.0"
            ]
          },
          "metadata": {
            "tags": []
          },
          "execution_count": 8
        }
      ]
    },
    {
      "cell_type": "code",
      "metadata": {
        "id": "Qn4L4wEz3kFW",
        "colab": {
          "base_uri": "https://localhost:8080/",
          "height": 228
        },
        "outputId": "4dd67df3-672f-45fe-b40d-a1cc50b9247c"
      },
      "source": [
        "# Read Data3 file with index country\n",
        "file6=pd.read_csv('Data3.csv',index_col='Country')\n",
        "file6"
      ],
      "execution_count": null,
      "outputs": [
        {
          "output_type": "execute_result",
          "data": {
            "text/html": [
              "<div>\n",
              "<style scoped>\n",
              "    .dataframe tbody tr th:only-of-type {\n",
              "        vertical-align: middle;\n",
              "    }\n",
              "\n",
              "    .dataframe tbody tr th {\n",
              "        vertical-align: top;\n",
              "    }\n",
              "\n",
              "    .dataframe thead th {\n",
              "        text-align: right;\n",
              "    }\n",
              "</style>\n",
              "<table border=\"1\" class=\"dataframe\">\n",
              "  <thead>\n",
              "    <tr style=\"text-align: right;\">\n",
              "      <th></th>\n",
              "      <th>gold</th>\n",
              "      <th>silver</th>\n",
              "      <th>date</th>\n",
              "    </tr>\n",
              "    <tr>\n",
              "      <th>Country</th>\n",
              "      <th></th>\n",
              "      <th></th>\n",
              "      <th></th>\n",
              "    </tr>\n",
              "  </thead>\n",
              "  <tbody>\n",
              "    <tr>\n",
              "      <th>Qatar</th>\n",
              "      <td>200</td>\n",
              "      <td>0</td>\n",
              "      <td>2014-01-01</td>\n",
              "    </tr>\n",
              "    <tr>\n",
              "      <th>Turkey</th>\n",
              "      <td>400</td>\n",
              "      <td>1</td>\n",
              "      <td>2015-02-02</td>\n",
              "    </tr>\n",
              "    <tr>\n",
              "      <th>Dubai</th>\n",
              "      <td>600</td>\n",
              "      <td>2</td>\n",
              "      <td>2016-03-03</td>\n",
              "    </tr>\n",
              "    <tr>\n",
              "      <th>Europe</th>\n",
              "      <td>800</td>\n",
              "      <td>3</td>\n",
              "      <td>2017-04-04</td>\n",
              "    </tr>\n",
              "    <tr>\n",
              "      <th>UK</th>\n",
              "      <td>0</td>\n",
              "      <td>4</td>\n",
              "      <td>3017-05-05</td>\n",
              "    </tr>\n",
              "  </tbody>\n",
              "</table>\n",
              "</div>"
            ],
            "text/plain": [
              "         gold  silver        date\n",
              "Country                          \n",
              "Qatar     200       0  2014-01-01\n",
              "Turkey    400       1  2015-02-02\n",
              "Dubai     600       2  2016-03-03\n",
              "Europe    800       3  2017-04-04\n",
              "UK          0       4  3017-05-05"
            ]
          },
          "metadata": {
            "tags": []
          },
          "execution_count": 9
        }
      ]
    },
    {
      "cell_type": "code",
      "metadata": {
        "id": "0VkdKXWn5Lhu",
        "colab": {
          "base_uri": "https://localhost:8080/"
        },
        "outputId": "4b6557c7-c1c1-418c-da3d-c669f57bb42a"
      },
      "source": [
        "# Extract selected columns from file as new DataFrame: file7\n",
        "file7=file6[['gold','silver']]\n",
        "\n",
        "\n",
        "# Convert file7 to file8 after arithmetic manipulation\n",
        "file8=(file7 - 32)  * 5/9\n",
        "\n",
        "# Rename 'gold' in column names with 'silver': file8\n",
        "file8.columns=file8.columns.str.replace('gold','silver')\n",
        "\n",
        "# Print first 5 rows of file8\n",
        "print(\"File 8 after replacement of column names:\\n\",file8.head())"
      ],
      "execution_count": null,
      "outputs": [
        {
          "output_type": "stream",
          "text": [
            "File 8 after replacement of column names:\n",
            "              silver     silver\n",
            "Country                       \n",
            "Qatar     93.333333 -17.777778\n",
            "Turkey   204.444444 -17.222222\n",
            "Dubai    315.555556 -16.666667\n",
            "Europe   426.666667 -16.111111\n",
            "UK       -17.777778 -15.555556\n"
          ],
          "name": "stdout"
        }
      ]
    },
    {
      "cell_type": "code",
      "metadata": {
        "id": "zilegeIE6pvy",
        "colab": {
          "base_uri": "https://localhost:8080/"
        },
        "outputId": "837d9d6d-9bb2-4ab2-a211-658d0396aa48"
      },
      "source": [
        "# Read 'Data3.csv' into a DataFrame: gdp\n",
        "# Parse dates= true means to edit the date object\n",
        "gdp=pd.read_csv('Data3.csv',parse_dates=True,index_col='date')\n",
        "\n",
        "print(\"Data of gdp with index date:\\n\",gdp)\n",
        "\n",
        "print('------------------------------------------------------------------------------')\n",
        "# Slice all the gdp data from 2014 onward: post_2014\n",
        "post_2014=gdp.loc['2015':]\n",
        "\n",
        "# Print the last 2 rows of post_2014\n",
        "print(\"Data showing years onwards to 2014:\\n\",post_2014.tail(2))"
      ],
      "execution_count": null,
      "outputs": [
        {
          "output_type": "stream",
          "text": [
            "Data of gdp with index date:\n",
            "            Country  gold  silver\n",
            "date                            \n",
            "2014-01-01   Qatar   200       0\n",
            "2015-02-02  Turkey   400       1\n",
            "2016-03-03   Dubai   600       2\n",
            "2017-04-04  Europe   800       3\n",
            "3017-05-05      UK     0       4\n",
            "------------------------------------------------------------------------------\n",
            "Data showing years onwards to 2014:\n",
            "            Country  gold  silver\n",
            "date                            \n",
            "2017-04-04  Europe   800       3\n",
            "3017-05-05      UK     0       4\n"
          ],
          "name": "stdout"
        }
      ]
    },
    {
      "cell_type": "code",
      "metadata": {
        "id": "tj_s292L9qnP",
        "colab": {
          "base_uri": "https://localhost:8080/"
        },
        "outputId": "24cd1436-17a5-4157-8198-97eb6260cbcc"
      },
      "source": [
        "# Read 'Data3.csv' into a DataFrame: sp500 with parse_date=True and index date\n",
        "sp500=pd.read_csv('Data3.csv',  parse_dates=True, index_col='date')\n",
        "\n",
        "# Subset 'gold' & 'Silver' columns from sp500: dollars\n",
        "dollars=sp500[['gold','silver']]\n",
        "\n",
        "# Print the head of dollars\n",
        "print(dollars.head())"
      ],
      "execution_count": null,
      "outputs": [
        {
          "output_type": "stream",
          "text": [
            "            gold  silver\n",
            "date                    \n",
            "2014-01-01   200       0\n",
            "2015-02-02   400       1\n",
            "2016-03-03   600       2\n",
            "2017-04-04   800       3\n",
            "3017-05-05     0       4\n"
          ],
          "name": "stdout"
        }
      ]
    },
    {
      "cell_type": "markdown",
      "metadata": {
        "id": "ItM7Y4vaCZ9O"
      },
      "source": [
        "# **Chapter-2**\n",
        "#  Topic 2.2\n"
      ]
    },
    {
      "cell_type": "code",
      "metadata": {
        "id": "JOd-gAXxBGK-",
        "colab": {
          "base_uri": "https://localhost:8080/"
        },
        "outputId": "d0ef47f7-c3fc-4e64-9774-fc8bebfb58ae"
      },
      "source": [
        "# Import pandas\n",
        "import pandas as pd\n",
        "\n",
        "# Read both files Data2 and Data3\n",
        "data_2=pd.read_csv('Data2.csv')\n",
        "data_3=pd.read_csv('Data3.csv')\n",
        "print(\"Data2 csv file:\\n\",data_2)\n",
        "print('------------------------------------------------------------------------------')\n",
        "print(\"Data3 csv file:\\n\",data_3)"
      ],
      "execution_count": null,
      "outputs": [
        {
          "output_type": "stream",
          "text": [
            "Data2 csv file:\n",
            "      Country  cpc  drive_right Purchased   pop\n",
            "0     France   44         True        No  10.0\n",
            "1      Spain   27        False       Yes  20.0\n",
            "2    Germany   30         True        No  30.0\n",
            "3      Spain   38        False        No  20.0\n",
            "4    Germany   40         True       Yes  30.0\n",
            "5     France   35        False       Yes  10.0\n",
            "6      China   52         True        No  80.0\n",
            "7      India   48         True       Yes  60.0\n",
            "8    America   45         True        No  40.0\n",
            "9     Canada   12        False       Yes   NaN\n",
            "10  Pakistan   10         True       Yes   NaN\n",
            "------------------------------------------------------------------------------\n",
            "Data3 csv file:\n",
            "   Country  gold  silver        date\n",
            "0   Qatar   200       0  2014-01-01\n",
            "1  Turkey   400       1  2015-02-02\n",
            "2   Dubai   600       2  2016-03-03\n",
            "3  Europe   800       3  2017-04-04\n",
            "4      UK     0       4  3017-05-05\n"
          ],
          "name": "stdout"
        }
      ]
    },
    {
      "cell_type": "code",
      "metadata": {
        "id": "12oj2eXfgBgJ",
        "colab": {
          "base_uri": "https://localhost:8080/"
        },
        "outputId": "6df5b0b9-7db6-408d-b6bd-9bab3db20446"
      },
      "source": [
        "# Extract the 'cpc' column from data-2:cpc_data\n",
        "cpc_data=data_2['cpc']\n",
        "\n",
        "# Extract the 'gold' column from data_3: gold_data\n",
        "gold_data=data_3['gold']\n",
        "\n",
        "# Append gold_data to cpc_data: quarter1\n",
        "quarter1=cpc_data.append(gold_data)\n",
        "\n",
        "# Compute & print total sum in quarter1\n",
        "print(quarter1.sum())\n",
        "quarter1"
      ],
      "execution_count": null,
      "outputs": [
        {
          "output_type": "stream",
          "text": [
            "2381\n"
          ],
          "name": "stdout"
        },
        {
          "output_type": "execute_result",
          "data": {
            "text/plain": [
              "0      44\n",
              "1      27\n",
              "2      30\n",
              "3      38\n",
              "4      40\n",
              "5      35\n",
              "6      52\n",
              "7      48\n",
              "8      45\n",
              "9      12\n",
              "10     10\n",
              "0     200\n",
              "1     400\n",
              "2     600\n",
              "3     800\n",
              "4       0\n",
              "dtype: int64"
            ]
          },
          "metadata": {
            "tags": []
          },
          "execution_count": 14
        }
      ]
    },
    {
      "cell_type": "code",
      "metadata": {
        "id": "KJdnf7PQpFf4",
        "colab": {
          "base_uri": "https://localhost:8080/"
        },
        "outputId": "5b00a770-c0d0-4f7a-cce7-49f842eb9b7f"
      },
      "source": [
        "# Initialize empty list: units\n",
        "units=[]\n",
        "\n",
        "# Append the columns into list (named as units)\n",
        "for i in [cpc_data,gold_data]:\n",
        "  units.append(i)\n",
        "\n",
        "print(\"List of Units (Append of both column):\\n\",units)\n",
        "\n",
        "print('------------------------------------------------------------------------------')\n",
        "# Concatenate the list (row wise): quarter1\n",
        "quarter1=pd.concat(units,axis='rows')\n",
        "print(\"Concatenate the list (row wise):\\n\",quarter1)\n",
        "\n",
        "print('------------------------------------------------------------------------------')\n",
        "# Concatenate the list (column wise): quarter2\n",
        "quarter2=pd.concat(units,axis='columns')\n",
        "print(\"Concatenate the list (column wise):\\n\",quarter2)"
      ],
      "execution_count": null,
      "outputs": [
        {
          "output_type": "stream",
          "text": [
            "List of Units (Append of both column):\n",
            " [0     44\n",
            "1     27\n",
            "2     30\n",
            "3     38\n",
            "4     40\n",
            "5     35\n",
            "6     52\n",
            "7     48\n",
            "8     45\n",
            "9     12\n",
            "10    10\n",
            "Name: cpc, dtype: int64, 0    200\n",
            "1    400\n",
            "2    600\n",
            "3    800\n",
            "4      0\n",
            "Name: gold, dtype: int64]\n",
            "------------------------------------------------------------------------------\n",
            "Concatenate the list (row wise):\n",
            " 0      44\n",
            "1      27\n",
            "2      30\n",
            "3      38\n",
            "4      40\n",
            "5      35\n",
            "6      52\n",
            "7      48\n",
            "8      45\n",
            "9      12\n",
            "10     10\n",
            "0     200\n",
            "1     400\n",
            "2     600\n",
            "3     800\n",
            "4       0\n",
            "dtype: int64\n",
            "------------------------------------------------------------------------------\n",
            "Concatenate the list (column wise):\n",
            "     cpc   gold\n",
            "0    44  200.0\n",
            "1    27  400.0\n",
            "2    30  600.0\n",
            "3    38  800.0\n",
            "4    40    0.0\n",
            "5    35    NaN\n",
            "6    52    NaN\n",
            "7    48    NaN\n",
            "8    45    NaN\n",
            "9    12    NaN\n",
            "10   10    NaN\n"
          ],
          "name": "stdout"
        }
      ]
    },
    {
      "cell_type": "code",
      "metadata": {
        "id": "lEEfYoLfxGVZ",
        "colab": {
          "base_uri": "https://localhost:8080/",
          "height": 378
        },
        "outputId": "1888470c-b893-4ed4-8f9b-fcde23e47b2d"
      },
      "source": [
        "data_2"
      ],
      "execution_count": null,
      "outputs": [
        {
          "output_type": "execute_result",
          "data": {
            "text/html": [
              "<div>\n",
              "<style scoped>\n",
              "    .dataframe tbody tr th:only-of-type {\n",
              "        vertical-align: middle;\n",
              "    }\n",
              "\n",
              "    .dataframe tbody tr th {\n",
              "        vertical-align: top;\n",
              "    }\n",
              "\n",
              "    .dataframe thead th {\n",
              "        text-align: right;\n",
              "    }\n",
              "</style>\n",
              "<table border=\"1\" class=\"dataframe\">\n",
              "  <thead>\n",
              "    <tr style=\"text-align: right;\">\n",
              "      <th></th>\n",
              "      <th>Country</th>\n",
              "      <th>cpc</th>\n",
              "      <th>drive_right</th>\n",
              "      <th>Purchased</th>\n",
              "      <th>pop</th>\n",
              "    </tr>\n",
              "  </thead>\n",
              "  <tbody>\n",
              "    <tr>\n",
              "      <th>0</th>\n",
              "      <td>France</td>\n",
              "      <td>44</td>\n",
              "      <td>True</td>\n",
              "      <td>No</td>\n",
              "      <td>10.0</td>\n",
              "    </tr>\n",
              "    <tr>\n",
              "      <th>1</th>\n",
              "      <td>Spain</td>\n",
              "      <td>27</td>\n",
              "      <td>False</td>\n",
              "      <td>Yes</td>\n",
              "      <td>20.0</td>\n",
              "    </tr>\n",
              "    <tr>\n",
              "      <th>2</th>\n",
              "      <td>Germany</td>\n",
              "      <td>30</td>\n",
              "      <td>True</td>\n",
              "      <td>No</td>\n",
              "      <td>30.0</td>\n",
              "    </tr>\n",
              "    <tr>\n",
              "      <th>3</th>\n",
              "      <td>Spain</td>\n",
              "      <td>38</td>\n",
              "      <td>False</td>\n",
              "      <td>No</td>\n",
              "      <td>20.0</td>\n",
              "    </tr>\n",
              "    <tr>\n",
              "      <th>4</th>\n",
              "      <td>Germany</td>\n",
              "      <td>40</td>\n",
              "      <td>True</td>\n",
              "      <td>Yes</td>\n",
              "      <td>30.0</td>\n",
              "    </tr>\n",
              "    <tr>\n",
              "      <th>5</th>\n",
              "      <td>France</td>\n",
              "      <td>35</td>\n",
              "      <td>False</td>\n",
              "      <td>Yes</td>\n",
              "      <td>10.0</td>\n",
              "    </tr>\n",
              "    <tr>\n",
              "      <th>6</th>\n",
              "      <td>China</td>\n",
              "      <td>52</td>\n",
              "      <td>True</td>\n",
              "      <td>No</td>\n",
              "      <td>80.0</td>\n",
              "    </tr>\n",
              "    <tr>\n",
              "      <th>7</th>\n",
              "      <td>India</td>\n",
              "      <td>48</td>\n",
              "      <td>True</td>\n",
              "      <td>Yes</td>\n",
              "      <td>60.0</td>\n",
              "    </tr>\n",
              "    <tr>\n",
              "      <th>8</th>\n",
              "      <td>America</td>\n",
              "      <td>45</td>\n",
              "      <td>True</td>\n",
              "      <td>No</td>\n",
              "      <td>40.0</td>\n",
              "    </tr>\n",
              "    <tr>\n",
              "      <th>9</th>\n",
              "      <td>Canada</td>\n",
              "      <td>12</td>\n",
              "      <td>False</td>\n",
              "      <td>Yes</td>\n",
              "      <td>NaN</td>\n",
              "    </tr>\n",
              "    <tr>\n",
              "      <th>10</th>\n",
              "      <td>Pakistan</td>\n",
              "      <td>10</td>\n",
              "      <td>True</td>\n",
              "      <td>Yes</td>\n",
              "      <td>NaN</td>\n",
              "    </tr>\n",
              "  </tbody>\n",
              "</table>\n",
              "</div>"
            ],
            "text/plain": [
              "     Country  cpc  drive_right Purchased   pop\n",
              "0     France   44         True        No  10.0\n",
              "1      Spain   27        False       Yes  20.0\n",
              "2    Germany   30         True        No  30.0\n",
              "3      Spain   38        False        No  20.0\n",
              "4    Germany   40         True       Yes  30.0\n",
              "5     France   35        False       Yes  10.0\n",
              "6      China   52         True        No  80.0\n",
              "7      India   48         True       Yes  60.0\n",
              "8    America   45         True        No  40.0\n",
              "9     Canada   12        False       Yes   NaN\n",
              "10  Pakistan   10         True       Yes   NaN"
            ]
          },
          "metadata": {
            "tags": []
          },
          "execution_count": 16
        }
      ]
    },
    {
      "cell_type": "code",
      "metadata": {
        "id": "PAdhhC7YbRbl",
        "colab": {
          "base_uri": "https://localhost:8080/",
          "height": 783
        },
        "outputId": "eda20c49-20af-4303-ed60-e54dc813115a"
      },
      "source": [
        "# Add 'year' column to data_2\n",
        "data_2['year1']=data_3['gold']\n",
        "data_2['year2']=data_3['silver']\n",
        "print(\"Data_2 dataframe after adding years:\\n\",data_2)\n",
        "\n",
        "print('------------------------------------------------------------------------------')\n",
        "# Append data_3 to data_2 with ignore_index=True: combined_names\n",
        "# Ignore index=True synchronize the previous indices of dataframe\n",
        "combined_names=data_2.append(data_3,ignore_index=True)\n",
        "combined_names"
      ],
      "execution_count": null,
      "outputs": [
        {
          "output_type": "stream",
          "text": [
            "Data_2 dataframe after adding years:\n",
            "      Country  cpc  drive_right Purchased   pop  year1  year2\n",
            "0     France   44         True        No  10.0  200.0    0.0\n",
            "1      Spain   27        False       Yes  20.0  400.0    1.0\n",
            "2    Germany   30         True        No  30.0  600.0    2.0\n",
            "3      Spain   38        False        No  20.0  800.0    3.0\n",
            "4    Germany   40         True       Yes  30.0    0.0    4.0\n",
            "5     France   35        False       Yes  10.0    NaN    NaN\n",
            "6      China   52         True        No  80.0    NaN    NaN\n",
            "7      India   48         True       Yes  60.0    NaN    NaN\n",
            "8    America   45         True        No  40.0    NaN    NaN\n",
            "9     Canada   12        False       Yes   NaN    NaN    NaN\n",
            "10  Pakistan   10         True       Yes   NaN    NaN    NaN\n",
            "------------------------------------------------------------------------------\n"
          ],
          "name": "stdout"
        },
        {
          "output_type": "execute_result",
          "data": {
            "text/html": [
              "<div>\n",
              "<style scoped>\n",
              "    .dataframe tbody tr th:only-of-type {\n",
              "        vertical-align: middle;\n",
              "    }\n",
              "\n",
              "    .dataframe tbody tr th {\n",
              "        vertical-align: top;\n",
              "    }\n",
              "\n",
              "    .dataframe thead th {\n",
              "        text-align: right;\n",
              "    }\n",
              "</style>\n",
              "<table border=\"1\" class=\"dataframe\">\n",
              "  <thead>\n",
              "    <tr style=\"text-align: right;\">\n",
              "      <th></th>\n",
              "      <th>Country</th>\n",
              "      <th>cpc</th>\n",
              "      <th>drive_right</th>\n",
              "      <th>Purchased</th>\n",
              "      <th>pop</th>\n",
              "      <th>year1</th>\n",
              "      <th>year2</th>\n",
              "      <th>gold</th>\n",
              "      <th>silver</th>\n",
              "      <th>date</th>\n",
              "    </tr>\n",
              "  </thead>\n",
              "  <tbody>\n",
              "    <tr>\n",
              "      <th>0</th>\n",
              "      <td>France</td>\n",
              "      <td>44.0</td>\n",
              "      <td>True</td>\n",
              "      <td>No</td>\n",
              "      <td>10.0</td>\n",
              "      <td>200.0</td>\n",
              "      <td>0.0</td>\n",
              "      <td>NaN</td>\n",
              "      <td>NaN</td>\n",
              "      <td>NaN</td>\n",
              "    </tr>\n",
              "    <tr>\n",
              "      <th>1</th>\n",
              "      <td>Spain</td>\n",
              "      <td>27.0</td>\n",
              "      <td>False</td>\n",
              "      <td>Yes</td>\n",
              "      <td>20.0</td>\n",
              "      <td>400.0</td>\n",
              "      <td>1.0</td>\n",
              "      <td>NaN</td>\n",
              "      <td>NaN</td>\n",
              "      <td>NaN</td>\n",
              "    </tr>\n",
              "    <tr>\n",
              "      <th>2</th>\n",
              "      <td>Germany</td>\n",
              "      <td>30.0</td>\n",
              "      <td>True</td>\n",
              "      <td>No</td>\n",
              "      <td>30.0</td>\n",
              "      <td>600.0</td>\n",
              "      <td>2.0</td>\n",
              "      <td>NaN</td>\n",
              "      <td>NaN</td>\n",
              "      <td>NaN</td>\n",
              "    </tr>\n",
              "    <tr>\n",
              "      <th>3</th>\n",
              "      <td>Spain</td>\n",
              "      <td>38.0</td>\n",
              "      <td>False</td>\n",
              "      <td>No</td>\n",
              "      <td>20.0</td>\n",
              "      <td>800.0</td>\n",
              "      <td>3.0</td>\n",
              "      <td>NaN</td>\n",
              "      <td>NaN</td>\n",
              "      <td>NaN</td>\n",
              "    </tr>\n",
              "    <tr>\n",
              "      <th>4</th>\n",
              "      <td>Germany</td>\n",
              "      <td>40.0</td>\n",
              "      <td>True</td>\n",
              "      <td>Yes</td>\n",
              "      <td>30.0</td>\n",
              "      <td>0.0</td>\n",
              "      <td>4.0</td>\n",
              "      <td>NaN</td>\n",
              "      <td>NaN</td>\n",
              "      <td>NaN</td>\n",
              "    </tr>\n",
              "    <tr>\n",
              "      <th>5</th>\n",
              "      <td>France</td>\n",
              "      <td>35.0</td>\n",
              "      <td>False</td>\n",
              "      <td>Yes</td>\n",
              "      <td>10.0</td>\n",
              "      <td>NaN</td>\n",
              "      <td>NaN</td>\n",
              "      <td>NaN</td>\n",
              "      <td>NaN</td>\n",
              "      <td>NaN</td>\n",
              "    </tr>\n",
              "    <tr>\n",
              "      <th>6</th>\n",
              "      <td>China</td>\n",
              "      <td>52.0</td>\n",
              "      <td>True</td>\n",
              "      <td>No</td>\n",
              "      <td>80.0</td>\n",
              "      <td>NaN</td>\n",
              "      <td>NaN</td>\n",
              "      <td>NaN</td>\n",
              "      <td>NaN</td>\n",
              "      <td>NaN</td>\n",
              "    </tr>\n",
              "    <tr>\n",
              "      <th>7</th>\n",
              "      <td>India</td>\n",
              "      <td>48.0</td>\n",
              "      <td>True</td>\n",
              "      <td>Yes</td>\n",
              "      <td>60.0</td>\n",
              "      <td>NaN</td>\n",
              "      <td>NaN</td>\n",
              "      <td>NaN</td>\n",
              "      <td>NaN</td>\n",
              "      <td>NaN</td>\n",
              "    </tr>\n",
              "    <tr>\n",
              "      <th>8</th>\n",
              "      <td>America</td>\n",
              "      <td>45.0</td>\n",
              "      <td>True</td>\n",
              "      <td>No</td>\n",
              "      <td>40.0</td>\n",
              "      <td>NaN</td>\n",
              "      <td>NaN</td>\n",
              "      <td>NaN</td>\n",
              "      <td>NaN</td>\n",
              "      <td>NaN</td>\n",
              "    </tr>\n",
              "    <tr>\n",
              "      <th>9</th>\n",
              "      <td>Canada</td>\n",
              "      <td>12.0</td>\n",
              "      <td>False</td>\n",
              "      <td>Yes</td>\n",
              "      <td>NaN</td>\n",
              "      <td>NaN</td>\n",
              "      <td>NaN</td>\n",
              "      <td>NaN</td>\n",
              "      <td>NaN</td>\n",
              "      <td>NaN</td>\n",
              "    </tr>\n",
              "    <tr>\n",
              "      <th>10</th>\n",
              "      <td>Pakistan</td>\n",
              "      <td>10.0</td>\n",
              "      <td>True</td>\n",
              "      <td>Yes</td>\n",
              "      <td>NaN</td>\n",
              "      <td>NaN</td>\n",
              "      <td>NaN</td>\n",
              "      <td>NaN</td>\n",
              "      <td>NaN</td>\n",
              "      <td>NaN</td>\n",
              "    </tr>\n",
              "    <tr>\n",
              "      <th>11</th>\n",
              "      <td>Qatar</td>\n",
              "      <td>NaN</td>\n",
              "      <td>NaN</td>\n",
              "      <td>NaN</td>\n",
              "      <td>NaN</td>\n",
              "      <td>NaN</td>\n",
              "      <td>NaN</td>\n",
              "      <td>200.0</td>\n",
              "      <td>0.0</td>\n",
              "      <td>2014-01-01</td>\n",
              "    </tr>\n",
              "    <tr>\n",
              "      <th>12</th>\n",
              "      <td>Turkey</td>\n",
              "      <td>NaN</td>\n",
              "      <td>NaN</td>\n",
              "      <td>NaN</td>\n",
              "      <td>NaN</td>\n",
              "      <td>NaN</td>\n",
              "      <td>NaN</td>\n",
              "      <td>400.0</td>\n",
              "      <td>1.0</td>\n",
              "      <td>2015-02-02</td>\n",
              "    </tr>\n",
              "    <tr>\n",
              "      <th>13</th>\n",
              "      <td>Dubai</td>\n",
              "      <td>NaN</td>\n",
              "      <td>NaN</td>\n",
              "      <td>NaN</td>\n",
              "      <td>NaN</td>\n",
              "      <td>NaN</td>\n",
              "      <td>NaN</td>\n",
              "      <td>600.0</td>\n",
              "      <td>2.0</td>\n",
              "      <td>2016-03-03</td>\n",
              "    </tr>\n",
              "    <tr>\n",
              "      <th>14</th>\n",
              "      <td>Europe</td>\n",
              "      <td>NaN</td>\n",
              "      <td>NaN</td>\n",
              "      <td>NaN</td>\n",
              "      <td>NaN</td>\n",
              "      <td>NaN</td>\n",
              "      <td>NaN</td>\n",
              "      <td>800.0</td>\n",
              "      <td>3.0</td>\n",
              "      <td>2017-04-04</td>\n",
              "    </tr>\n",
              "    <tr>\n",
              "      <th>15</th>\n",
              "      <td>UK</td>\n",
              "      <td>NaN</td>\n",
              "      <td>NaN</td>\n",
              "      <td>NaN</td>\n",
              "      <td>NaN</td>\n",
              "      <td>NaN</td>\n",
              "      <td>NaN</td>\n",
              "      <td>0.0</td>\n",
              "      <td>4.0</td>\n",
              "      <td>3017-05-05</td>\n",
              "    </tr>\n",
              "  </tbody>\n",
              "</table>\n",
              "</div>"
            ],
            "text/plain": [
              "     Country   cpc drive_right Purchased  ...  year2   gold  silver        date\n",
              "0     France  44.0        True        No  ...    0.0    NaN     NaN         NaN\n",
              "1      Spain  27.0       False       Yes  ...    1.0    NaN     NaN         NaN\n",
              "2    Germany  30.0        True        No  ...    2.0    NaN     NaN         NaN\n",
              "3      Spain  38.0       False        No  ...    3.0    NaN     NaN         NaN\n",
              "4    Germany  40.0        True       Yes  ...    4.0    NaN     NaN         NaN\n",
              "5     France  35.0       False       Yes  ...    NaN    NaN     NaN         NaN\n",
              "6      China  52.0        True        No  ...    NaN    NaN     NaN         NaN\n",
              "7      India  48.0        True       Yes  ...    NaN    NaN     NaN         NaN\n",
              "8    America  45.0        True        No  ...    NaN    NaN     NaN         NaN\n",
              "9     Canada  12.0       False       Yes  ...    NaN    NaN     NaN         NaN\n",
              "10  Pakistan  10.0        True       Yes  ...    NaN    NaN     NaN         NaN\n",
              "11     Qatar   NaN         NaN       NaN  ...    NaN  200.0     0.0  2014-01-01\n",
              "12    Turkey   NaN         NaN       NaN  ...    NaN  400.0     1.0  2015-02-02\n",
              "13     Dubai   NaN         NaN       NaN  ...    NaN  600.0     2.0  2016-03-03\n",
              "14    Europe   NaN         NaN       NaN  ...    NaN  800.0     3.0  2017-04-04\n",
              "15        UK   NaN         NaN       NaN  ...    NaN    0.0     4.0  3017-05-05\n",
              "\n",
              "[16 rows x 10 columns]"
            ]
          },
          "metadata": {
            "tags": []
          },
          "execution_count": 17
        }
      ]
    },
    {
      "cell_type": "code",
      "metadata": {
        "id": "eSYVqsZIwNrh",
        "colab": {
          "base_uri": "https://localhost:8080/",
          "height": 378
        },
        "outputId": "08b1848a-b2ba-4026-f3a7-8f9ddd3609a0"
      },
      "source": [
        "data_2"
      ],
      "execution_count": null,
      "outputs": [
        {
          "output_type": "execute_result",
          "data": {
            "text/html": [
              "<div>\n",
              "<style scoped>\n",
              "    .dataframe tbody tr th:only-of-type {\n",
              "        vertical-align: middle;\n",
              "    }\n",
              "\n",
              "    .dataframe tbody tr th {\n",
              "        vertical-align: top;\n",
              "    }\n",
              "\n",
              "    .dataframe thead th {\n",
              "        text-align: right;\n",
              "    }\n",
              "</style>\n",
              "<table border=\"1\" class=\"dataframe\">\n",
              "  <thead>\n",
              "    <tr style=\"text-align: right;\">\n",
              "      <th></th>\n",
              "      <th>Country</th>\n",
              "      <th>cpc</th>\n",
              "      <th>drive_right</th>\n",
              "      <th>Purchased</th>\n",
              "      <th>pop</th>\n",
              "      <th>year1</th>\n",
              "      <th>year2</th>\n",
              "    </tr>\n",
              "  </thead>\n",
              "  <tbody>\n",
              "    <tr>\n",
              "      <th>0</th>\n",
              "      <td>France</td>\n",
              "      <td>44</td>\n",
              "      <td>True</td>\n",
              "      <td>No</td>\n",
              "      <td>10.0</td>\n",
              "      <td>200.0</td>\n",
              "      <td>0.0</td>\n",
              "    </tr>\n",
              "    <tr>\n",
              "      <th>1</th>\n",
              "      <td>Spain</td>\n",
              "      <td>27</td>\n",
              "      <td>False</td>\n",
              "      <td>Yes</td>\n",
              "      <td>20.0</td>\n",
              "      <td>400.0</td>\n",
              "      <td>1.0</td>\n",
              "    </tr>\n",
              "    <tr>\n",
              "      <th>2</th>\n",
              "      <td>Germany</td>\n",
              "      <td>30</td>\n",
              "      <td>True</td>\n",
              "      <td>No</td>\n",
              "      <td>30.0</td>\n",
              "      <td>600.0</td>\n",
              "      <td>2.0</td>\n",
              "    </tr>\n",
              "    <tr>\n",
              "      <th>3</th>\n",
              "      <td>Spain</td>\n",
              "      <td>38</td>\n",
              "      <td>False</td>\n",
              "      <td>No</td>\n",
              "      <td>20.0</td>\n",
              "      <td>800.0</td>\n",
              "      <td>3.0</td>\n",
              "    </tr>\n",
              "    <tr>\n",
              "      <th>4</th>\n",
              "      <td>Germany</td>\n",
              "      <td>40</td>\n",
              "      <td>True</td>\n",
              "      <td>Yes</td>\n",
              "      <td>30.0</td>\n",
              "      <td>0.0</td>\n",
              "      <td>4.0</td>\n",
              "    </tr>\n",
              "    <tr>\n",
              "      <th>5</th>\n",
              "      <td>France</td>\n",
              "      <td>35</td>\n",
              "      <td>False</td>\n",
              "      <td>Yes</td>\n",
              "      <td>10.0</td>\n",
              "      <td>NaN</td>\n",
              "      <td>NaN</td>\n",
              "    </tr>\n",
              "    <tr>\n",
              "      <th>6</th>\n",
              "      <td>China</td>\n",
              "      <td>52</td>\n",
              "      <td>True</td>\n",
              "      <td>No</td>\n",
              "      <td>80.0</td>\n",
              "      <td>NaN</td>\n",
              "      <td>NaN</td>\n",
              "    </tr>\n",
              "    <tr>\n",
              "      <th>7</th>\n",
              "      <td>India</td>\n",
              "      <td>48</td>\n",
              "      <td>True</td>\n",
              "      <td>Yes</td>\n",
              "      <td>60.0</td>\n",
              "      <td>NaN</td>\n",
              "      <td>NaN</td>\n",
              "    </tr>\n",
              "    <tr>\n",
              "      <th>8</th>\n",
              "      <td>America</td>\n",
              "      <td>45</td>\n",
              "      <td>True</td>\n",
              "      <td>No</td>\n",
              "      <td>40.0</td>\n",
              "      <td>NaN</td>\n",
              "      <td>NaN</td>\n",
              "    </tr>\n",
              "    <tr>\n",
              "      <th>9</th>\n",
              "      <td>Canada</td>\n",
              "      <td>12</td>\n",
              "      <td>False</td>\n",
              "      <td>Yes</td>\n",
              "      <td>NaN</td>\n",
              "      <td>NaN</td>\n",
              "      <td>NaN</td>\n",
              "    </tr>\n",
              "    <tr>\n",
              "      <th>10</th>\n",
              "      <td>Pakistan</td>\n",
              "      <td>10</td>\n",
              "      <td>True</td>\n",
              "      <td>Yes</td>\n",
              "      <td>NaN</td>\n",
              "      <td>NaN</td>\n",
              "      <td>NaN</td>\n",
              "    </tr>\n",
              "  </tbody>\n",
              "</table>\n",
              "</div>"
            ],
            "text/plain": [
              "     Country  cpc  drive_right Purchased   pop  year1  year2\n",
              "0     France   44         True        No  10.0  200.0    0.0\n",
              "1      Spain   27        False       Yes  20.0  400.0    1.0\n",
              "2    Germany   30         True        No  30.0  600.0    2.0\n",
              "3      Spain   38        False        No  20.0  800.0    3.0\n",
              "4    Germany   40         True       Yes  30.0    0.0    4.0\n",
              "5     France   35        False       Yes  10.0    NaN    NaN\n",
              "6      China   52         True        No  80.0    NaN    NaN\n",
              "7      India   48         True       Yes  60.0    NaN    NaN\n",
              "8    America   45         True        No  40.0    NaN    NaN\n",
              "9     Canada   12        False       Yes   NaN    NaN    NaN\n",
              "10  Pakistan   10         True       Yes   NaN    NaN    NaN"
            ]
          },
          "metadata": {
            "tags": []
          },
          "execution_count": 18
        }
      ]
    },
    {
      "cell_type": "code",
      "metadata": {
        "id": "osQ51H3RoUij",
        "colab": {
          "base_uri": "https://localhost:8080/"
        },
        "outputId": "05de7c7f-dc13-4a3c-b11c-d2feb56ddf5e"
      },
      "source": [
        "# Sort the entries of data_2 (level=0):cpc_sorted\n",
        "cpc_sorted=data_2.sort_index(level=0)\n",
        "print('Sorted entries of data_2:\\n',cpc_sorted)\n",
        "\n",
        "print('------------------------------------------------------------------------------')\n",
        "# Print the number for china and india\n",
        "print(\"Number for China and India:\\n\",cpc_sorted.iloc[6:8,:])\n",
        "\n",
        "print('------------------------------------------------------------------------------')\n",
        "# Print data about Germany\n",
        "print(\"Data about Germany:\\n\",cpc_sorted.iloc[2])"
      ],
      "execution_count": null,
      "outputs": [
        {
          "output_type": "stream",
          "text": [
            "Sorted entries of data_2:\n",
            "      Country  cpc  drive_right Purchased   pop  year1  year2\n",
            "0     France   44         True        No  10.0  200.0    0.0\n",
            "1      Spain   27        False       Yes  20.0  400.0    1.0\n",
            "2    Germany   30         True        No  30.0  600.0    2.0\n",
            "3      Spain   38        False        No  20.0  800.0    3.0\n",
            "4    Germany   40         True       Yes  30.0    0.0    4.0\n",
            "5     France   35        False       Yes  10.0    NaN    NaN\n",
            "6      China   52         True        No  80.0    NaN    NaN\n",
            "7      India   48         True       Yes  60.0    NaN    NaN\n",
            "8    America   45         True        No  40.0    NaN    NaN\n",
            "9     Canada   12        False       Yes   NaN    NaN    NaN\n",
            "10  Pakistan   10         True       Yes   NaN    NaN    NaN\n",
            "------------------------------------------------------------------------------\n",
            "Number for China and India:\n",
            "   Country  cpc  drive_right Purchased   pop  year1  year2\n",
            "6   China   52         True        No  80.0    NaN    NaN\n",
            "7   India   48         True       Yes  60.0    NaN    NaN\n",
            "------------------------------------------------------------------------------\n",
            "Data about Germany:\n",
            " Country        Germany\n",
            "cpc                 30\n",
            "drive_right       True\n",
            "Purchased           No\n",
            "pop                 30\n",
            "year1              600\n",
            "year2                2\n",
            "Name: 2, dtype: object\n"
          ],
          "name": "stdout"
        }
      ]
    },
    {
      "cell_type": "markdown",
      "metadata": {
        "id": "Wnk_jzUrTOz2"
      },
      "source": [
        "# **Chapter-2**\n",
        "#  Topic 2.3: \n",
        "You'll explore different techniques for merging,and learn about **left joins**, **right joins, inner joins, and outer joins**,as well as when to use which.\n",
        "USE Book1 and Book2 files to work."
      ]
    },
    {
      "cell_type": "code",
      "metadata": {
        "id": "hORSTH9MPjse",
        "colab": {
          "base_uri": "https://localhost:8080/"
        },
        "outputId": "32c81a56-bccf-429b-eb98-ef9570135c56"
      },
      "source": [
        "import pandas as pd\n",
        "\n",
        "# Read Book1.csv: revenue  \n",
        "revenue=pd.read_csv('Book1.csv')\n",
        "print(\"Book1.csv (Revenue):\\n\",revenue)\n",
        "\n",
        "print('------------------------------------------------------------------------------')\n",
        "# Read Book2.csv: managers\n",
        "managers=pd.read_csv('Book2.csv')\n",
        "print(\"Book2.csv (Managers):\\n\",managers)"
      ],
      "execution_count": null,
      "outputs": [
        {
          "output_type": "stream",
          "text": [
            "Book1.csv (Revenue):\n",
            "      city  revenue  branch_id\n",
            "0  austin      100         10\n",
            "1  denver       83         20\n",
            "2  spring        4         30\n",
            "3  mexico      200         47\n",
            "------------------------------------------------------------------------------\n",
            "Book2.csv (Managers):\n",
            "      city managers  branch_id\n",
            "0  austin      tom         10\n",
            "1  denver      jon         20\n",
            "2  mexico  charles         47\n",
            "3  spring    jassy         31\n"
          ],
          "name": "stdout"
        }
      ]
    },
    {
      "cell_type": "code",
      "metadata": {
        "id": "CkGhZWAWU8eJ",
        "colab": {
          "base_uri": "https://localhost:8080/",
          "height": 168
        },
        "outputId": "5f748260-9046-4a24-f51f-52405e347cf0"
      },
      "source": [
        "# Add column of branch in managers from managers dataframe\n",
        "managers['branch']=managers['city']\n",
        "managers"
      ],
      "execution_count": null,
      "outputs": [
        {
          "output_type": "execute_result",
          "data": {
            "text/html": [
              "<div>\n",
              "<style scoped>\n",
              "    .dataframe tbody tr th:only-of-type {\n",
              "        vertical-align: middle;\n",
              "    }\n",
              "\n",
              "    .dataframe tbody tr th {\n",
              "        vertical-align: top;\n",
              "    }\n",
              "\n",
              "    .dataframe thead th {\n",
              "        text-align: right;\n",
              "    }\n",
              "</style>\n",
              "<table border=\"1\" class=\"dataframe\">\n",
              "  <thead>\n",
              "    <tr style=\"text-align: right;\">\n",
              "      <th></th>\n",
              "      <th>city</th>\n",
              "      <th>managers</th>\n",
              "      <th>branch_id</th>\n",
              "      <th>branch</th>\n",
              "    </tr>\n",
              "  </thead>\n",
              "  <tbody>\n",
              "    <tr>\n",
              "      <th>0</th>\n",
              "      <td>austin</td>\n",
              "      <td>tom</td>\n",
              "      <td>10</td>\n",
              "      <td>austin</td>\n",
              "    </tr>\n",
              "    <tr>\n",
              "      <th>1</th>\n",
              "      <td>denver</td>\n",
              "      <td>jon</td>\n",
              "      <td>20</td>\n",
              "      <td>denver</td>\n",
              "    </tr>\n",
              "    <tr>\n",
              "      <th>2</th>\n",
              "      <td>mexico</td>\n",
              "      <td>charles</td>\n",
              "      <td>47</td>\n",
              "      <td>mexico</td>\n",
              "    </tr>\n",
              "    <tr>\n",
              "      <th>3</th>\n",
              "      <td>spring</td>\n",
              "      <td>jassy</td>\n",
              "      <td>31</td>\n",
              "      <td>spring</td>\n",
              "    </tr>\n",
              "  </tbody>\n",
              "</table>\n",
              "</div>"
            ],
            "text/plain": [
              "     city managers  branch_id  branch\n",
              "0  austin      tom         10  austin\n",
              "1  denver      jon         20  denver\n",
              "2  mexico  charles         47  mexico\n",
              "3  spring    jassy         31  spring"
            ]
          },
          "metadata": {
            "tags": []
          },
          "execution_count": 74
        }
      ]
    },
    {
      "cell_type": "code",
      "metadata": {
        "id": "6CKGuLF8WyQG",
        "colab": {
          "base_uri": "https://localhost:8080/"
        },
        "outputId": "9ccb9da9-b495-4ac4-f762-17537a6c82dc"
      },
      "source": [
        "# Merge revenue with managers on 'city': merge_by_city\n",
        "# In \"on\" name of columns should be same.\n",
        "merge_by_city = pd.merge(revenue, managers, on='city')\n",
        "\n",
        "# Print merge_by_city\n",
        "print(\"Join Revenue and Managers dataframe based on city:\\n\",merge_by_city)\n",
        "\n",
        "print('------------------------------------------------------------------------------')\n",
        "# Merge revenue with managers on 'branch_id': merge_by_id\n",
        "merge_by_id = pd.merge(revenue, managers, on='branch_id')\n",
        "\n",
        "# Print merge_by_id\n",
        "print(\"Join Revenue and Managers dataframe based on branch_id:\\n\",merge_by_id)"
      ],
      "execution_count": null,
      "outputs": [
        {
          "output_type": "stream",
          "text": [
            "Join Revenue and Managers dataframe based on city:\n",
            "      city  revenue  branch_id_x managers  branch_id_y  branch\n",
            "0  austin      100           10      tom           10  austin\n",
            "1  denver       83           20      jon           20  denver\n",
            "2  spring        4           30    jassy           31  spring\n",
            "3  mexico      200           47  charles           47  mexico\n",
            "------------------------------------------------------------------------------\n",
            "Join Revenue and Managers dataframe based on branch_id:\n",
            "    city_x  revenue  branch_id  city_y managers  branch\n",
            "0  austin      100         10  austin      tom  austin\n",
            "1  denver       83         20  denver      jon  denver\n",
            "2  mexico      200         47  mexico  charles  mexico\n"
          ],
          "name": "stdout"
        }
      ]
    },
    {
      "cell_type": "code",
      "metadata": {
        "id": "Tt10U59naCR9",
        "colab": {
          "base_uri": "https://localhost:8080/"
        },
        "outputId": "be1bfb85-f46a-421a-9712-bb30e56064be"
      },
      "source": [
        "# Merge revenue & managers on 'city' & 'branch': combined\n",
        "# In \"right/left on\" contents of columns should be same in data frames.\n",
        "combined=pd.merge(revenue,managers,left_on='city', right_on='branch')\n",
        "\n",
        "# Print combined\n",
        "print(\"Merge Revenue and managers on the basis of city and branch (due to same values):\\n\",combined)"
      ],
      "execution_count": null,
      "outputs": [
        {
          "output_type": "stream",
          "text": [
            "Merge Revenue and managers on the basis of city and branch (due to same values):\n",
            "    city_x  revenue  branch_id_x  city_y managers  branch_id_y  branch\n",
            "0  austin      100           10  austin      tom           10  austin\n",
            "1  denver       83           20  denver      jon           20  denver\n",
            "2  spring        4           30  spring    jassy           31  spring\n",
            "3  mexico      200           47  mexico  charles           47  mexico\n"
          ],
          "name": "stdout"
        }
      ]
    },
    {
      "cell_type": "code",
      "metadata": {
        "id": "fmcnTPxB0C7p",
        "colab": {
          "base_uri": "https://localhost:8080/"
        },
        "outputId": "7f9be52d-c064-433e-fac3-bb49b86d152a"
      },
      "source": [
        "# Add 'state' column to revenue: revenue['state']\n",
        "revenue['state']  = ['TX','CO','IL','CA']\n",
        "\n",
        "# Add 'state' column to managers: managers['state']\n",
        "managers['state'] = ['TX','CO','CA','MO']\n",
        "\n",
        "# Merge revenue & managers on 'branch_id', 'city', & 'state': combined\n",
        "combined  = revenue.merge(managers, on=['branch_id','city','state'])\n",
        "\n",
        "# Print combined\n",
        "print(\"Join Revenue and Managers dataframe based on branch_id , city and state:\\n\",combined)"
      ],
      "execution_count": null,
      "outputs": [
        {
          "output_type": "stream",
          "text": [
            "Join Revenue and Managers dataframe based on branch_id , city and state:\n",
            "      city  revenue  branch_id state managers  branch\n",
            "0  austin      100         10    TX      tom  austin\n",
            "1  denver       83         20    CO      jon  denver\n",
            "2  mexico      200         47    CA  charles  mexico\n"
          ],
          "name": "stdout"
        }
      ]
    },
    {
      "cell_type": "markdown",
      "metadata": {
        "id": "suLWmTgFbk3e"
      },
      "source": [
        "![sql-joins.png](data:image/png;base64,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)"
      ]
    },
    {
      "cell_type": "code",
      "metadata": {
        "id": "qfiZUHV2QryG",
        "colab": {
          "base_uri": "https://localhost:8080/"
        },
        "outputId": "6aea24f4-926f-46fd-b837-2c27965da57b"
      },
      "source": [
        "'''\n",
        "Merge revenue and sales: revenue_and_managers\n",
        "right: use only keys from right frame, similar to a SQL right outer join; preserve key order.\n",
        "'''\n",
        "revenue_and_managers = pd.merge(revenue, managers, how='right', on=['city','state'] )\n",
        "\n",
        "# Print revenue_and_sales\n",
        "print('Right outer join on city and state:\\n',revenue_and_managers)\n",
        "\n",
        "print('------------------------------------------------------------------------------')\n",
        "'''\n",
        "Merge sales and managers: managers_and revenue\n",
        "left: use only keys from left frame, similar to a SQL left outer join; preserve key order.\n",
        "'''\n",
        "# managers_and_revenue = pd.merge(managers, revenue, how='left', left_on=['city'], right_on=['state'])\n",
        "managers_and_revenue = pd.merge(managers, revenue, how='left', on=['city','state'])\n",
        "\n",
        "# Print managers_and revenue\n",
        "print('Left outer join on city and state:\\n',managers_and_revenue)"
      ],
      "execution_count": null,
      "outputs": [
        {
          "output_type": "stream",
          "text": [
            "Right outer join on city and state:\n",
            "      city  revenue  branch_id_x state managers  branch_id_y  branch\n",
            "0  austin    100.0         10.0    TX      tom           10  austin\n",
            "1  denver     83.0         20.0    CO      jon           20  denver\n",
            "2  mexico    200.0         47.0    CA  charles           47  mexico\n",
            "3  spring      NaN          NaN    MO    jassy           31  spring\n",
            "------------------------------------------------------------------------------\n",
            "Left outer join on city and state:\n",
            "      city managers  branch_id_x  branch state  revenue  branch_id_y\n",
            "0  austin      tom           10  austin    TX    100.0         10.0\n",
            "1  denver      jon           20  denver    CO     83.0         20.0\n",
            "2  mexico  charles           47  mexico    CA    200.0         47.0\n",
            "3  spring    jassy           31  spring    MO      NaN          NaN\n"
          ],
          "name": "stdout"
        }
      ]
    },
    {
      "cell_type": "code",
      "metadata": {
        "id": "7JFyZkkI_FFk",
        "colab": {
          "base_uri": "https://localhost:8080/"
        },
        "outputId": "28be1770-8dbd-44e2-89fe-364b2a3639f6"
      },
      "source": [
        "print(\"Revenue:\\n\",revenue)\n",
        "print('------------------------------------------------------------------------------')\n",
        "print(\"Managers:\\n\",managers)"
      ],
      "execution_count": null,
      "outputs": [
        {
          "output_type": "stream",
          "text": [
            "Revenue:\n",
            "      city  revenue  branch_id state\n",
            "0  austin      100         10    TX\n",
            "1  denver       83         20    CO\n",
            "2  spring        4         30    IL\n",
            "3  mexico      200         47    CA\n",
            "------------------------------------------------------------------------------\n",
            "Managers:\n",
            "      city managers  branch_id  branch state\n",
            "0  austin      tom         10  austin    TX\n",
            "1  denver      jon         20  denver    CO\n",
            "2  mexico  charles         47  mexico    CA\n",
            "3  spring    jassy         31  spring    MO\n"
          ],
          "name": "stdout"
        }
      ]
    },
    {
      "cell_type": "code",
      "metadata": {
        "id": "oSAgku-__9qK",
        "colab": {
          "base_uri": "https://localhost:8080/"
        },
        "outputId": "56ecc2b4-4446-433b-f480-e8c6f9f6af39"
      },
      "source": [
        "'''\n",
        "Merge revenue & managers on 'city', & 'state' (Full Outer join) : combined\n",
        "Use union of keys from both frames, similar to a SQL full outer join; sort keys lexicographically.\n",
        "\"indicator=True\" determine either both dataframe merged on merge key or any one (left, right) \n",
        "'''\n",
        "combined_outer = pd.merge(revenue, managers, on=['city', 'state'], how='outer', indicator=True  , suffixes=('_left','_right'))\n",
        "\n",
        "# Print combined\n",
        "print('Full outer join:\\n',combined_outer)"
      ],
      "execution_count": null,
      "outputs": [
        {
          "output_type": "stream",
          "text": [
            "Full outer join:\n",
            "      city  revenue  branch_id_left  ... branch_id_right  branch      _merge\n",
            "0  austin    100.0            10.0  ...            10.0  austin        both\n",
            "1  denver     83.0            20.0  ...            20.0  denver        both\n",
            "2  spring      4.0            30.0  ...             NaN     NaN   left_only\n",
            "3  mexico    200.0            47.0  ...            47.0  mexico        both\n",
            "4  spring      NaN             NaN  ...            31.0  spring  right_only\n",
            "\n",
            "[5 rows x 8 columns]\n"
          ],
          "name": "stdout"
        }
      ]
    },
    {
      "cell_type": "code",
      "metadata": {
        "id": "K3d4vE1BBpp6",
        "colab": {
          "base_uri": "https://localhost:8080/"
        },
        "outputId": "123c1069-2a32-41a3-f239-2b155a720639"
      },
      "source": [
        "print(\"Revenue:\\n\",revenue)\n",
        "print('------------------------------------------------------------------------------')\n",
        "print(\"Managers:\\n\",managers)"
      ],
      "execution_count": null,
      "outputs": [
        {
          "output_type": "stream",
          "text": [
            "Revenue:\n",
            "      city  revenue  branch_id state\n",
            "0  austin      100         10    TX\n",
            "1  denver       83         20    CO\n",
            "2  spring        4         30    IL\n",
            "3  mexico      200         47    CA\n",
            "------------------------------------------------------------------------------\n",
            "Managers:\n",
            "      city managers  branch_id  branch state\n",
            "0  austin      tom         10  austin    TX\n",
            "1  denver      jon         20  denver    CO\n",
            "2  mexico  charles         47  mexico    CA\n",
            "3  spring    jassy         31  spring    MO\n"
          ],
          "name": "stdout"
        }
      ]
    },
    {
      "cell_type": "code",
      "metadata": {
        "id": "cdT1sOb4W9xd",
        "colab": {
          "base_uri": "https://localhost:8080/"
        },
        "outputId": "54b1e642-6edb-4ae7-c8be-d7cdc361c71e"
      },
      "source": [
        "# Perform the first ordered merge: tx_order\n",
        "'''\n",
        "pd.merge_ordered designed for ordered data like time series data. \n",
        "Also perform merge with optional filling/interpolation (fill Na values).\n",
        "'''\n",
        "tx_order = pd.merge_ordered(revenue, managers)\n",
        "\n",
        "# Print tx_order\n",
        "print('Merge both dataframe in ordered form:\\n',tx_order)"
      ],
      "execution_count": null,
      "outputs": [
        {
          "output_type": "stream",
          "text": [
            "Merge both dataframe in ordered form:\n",
            "      city  revenue  branch_id state managers  branch\n",
            "0  austin    100.0         10    TX      tom  austin\n",
            "1  denver     83.0         20    CO      jon  denver\n",
            "2  mexico    200.0         47    CA  charles  mexico\n",
            "3  spring      4.0         30    IL      NaN     NaN\n",
            "4  spring      NaN         31    MO    jassy  spring\n"
          ],
          "name": "stdout"
        }
      ]
    },
    {
      "cell_type": "code",
      "metadata": {
        "id": "0RMvzM4FYdUZ",
        "colab": {
          "base_uri": "https://localhost:8080/"
        },
        "outputId": "096d5c63-da50-4b46-d8f1-6c28936fe540"
      },
      "source": [
        "'''\n",
        "# This is similar to a left-join except that we match on nearest key rather than equal keys. Both DataFrames must be sorted by the key.\n",
        "https://pandas.pydata.org/pandas-docs/stable/reference/api/pandas.merge_asof.html#pandas.merge_asof\n",
        "# Merge revenue and managers\n",
        "'''\n",
        "revenue  = revenue.sort_values(by='branch_id')\n",
        "managers = managers.sort_values(by='branch_id')\n",
        "merged = pd.merge_asof(revenue, managers, on='branch_id', suffixes=('_left','_right'), direction='forward') \n",
        "\n",
        "# Print the tail of merged\n",
        "print(\"Match on nearest key rather than equal keys (merge_asof):\\n\",merged.tail())"
      ],
      "execution_count": null,
      "outputs": [
        {
          "output_type": "stream",
          "text": [
            "Match on nearest key rather than equal keys (merge_asof):\n",
            "   city_left  revenue  branch_id  ... managers  branch state_right\n",
            "0    austin      100         10  ...      tom  austin          TX\n",
            "1    denver       83         20  ...      jon  denver          CO\n",
            "2    spring        4         30  ...    jassy  spring          MO\n",
            "3    mexico      200         47  ...  charles  mexico          CA\n",
            "\n",
            "[4 rows x 8 columns]\n"
          ],
          "name": "stdout"
        }
      ]
    },
    {
      "cell_type": "code",
      "metadata": {
        "id": "2sK2asH1hKvN"
      },
      "source": [
        ""
      ],
      "execution_count": null,
      "outputs": []
    }
  ]
}